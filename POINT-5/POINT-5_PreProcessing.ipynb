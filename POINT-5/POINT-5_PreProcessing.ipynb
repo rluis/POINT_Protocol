{
 "cells": [
  {
   "cell_type": "markdown",
   "metadata": {
    "pycharm": {
     "name": "#%% md\n"
    }
   },
   "source": [
    "# Pre-Processing of POINT-5 data"
   ]
  },
  {
   "cell_type": "markdown",
   "metadata": {
    "pycharm": {
     "name": "#%% md\n"
    }
   },
   "source": [
    "## Loading Packages"
   ]
  },
  {
   "cell_type": "code",
   "execution_count": 1,
   "metadata": {
    "collapsed": false,
    "execution": {
     "iopub.execute_input": "2022-05-23T22:51:02.323143Z",
     "iopub.status.busy": "2022-05-23T22:51:02.322726Z",
     "iopub.status.idle": "2022-05-23T22:51:02.335624Z",
     "shell.execute_reply": "2022-05-23T22:51:02.334106Z",
     "shell.execute_reply.started": "2022-05-23T22:51:02.323060Z"
    },
    "jupyter": {
     "outputs_hidden": false
    },
    "pycharm": {
     "name": "#%%\n"
    },
    "tags": []
   },
   "outputs": [],
   "source": [
    "import os.path\n",
    "import subprocess"
   ]
  },
  {
   "cell_type": "markdown",
   "metadata": {
    "pycharm": {
     "name": "#%% md\n"
    }
   },
   "source": [
    "## Download reference fasta and GTF file with annotated transcripts "
   ]
  },
  {
   "cell_type": "code",
   "execution_count": 2,
   "metadata": {
    "collapsed": false,
    "execution": {
     "iopub.execute_input": "2022-05-23T22:51:02.337464Z",
     "iopub.status.busy": "2022-05-23T22:51:02.337032Z",
     "iopub.status.idle": "2022-05-23T22:57:10.900897Z",
     "shell.execute_reply": "2022-05-23T22:57:10.899437Z",
     "shell.execute_reply.started": "2022-05-23T22:51:02.337434Z"
    },
    "jupyter": {
     "outputs_hidden": false
    },
    "pycharm": {
     "name": "#%%\n"
    }
   },
   "outputs": [
    {
     "name": "stdout",
     "output_type": "stream",
     "text": [
      "--2022-05-23 23:51:02--  http://ftp.ensembl.org/pub/release-90/fasta/homo_sapiens/dna/Homo_sapiens.GRCh38.dna.primary_assembly.fa.gz\n",
      "Resolving ftp.ensembl.org (ftp.ensembl.org)... 193.62.193.139\n",
      "Connecting to ftp.ensembl.org (ftp.ensembl.org)|193.62.193.139|:80... connected.\n",
      "HTTP request sent, awaiting response... 200 OK\n",
      "Length: 881214396 (840M) [application/x-gzip]\n",
      "Saving to: ‘Homo_sapiens.GRCh38.dna.primary_assembly.fa.gz’\n",
      "\n",
      "Homo_sapiens.GRCh38 100%[===================>] 840.39M  2.36MB/s    in 5m 41s  \n",
      "\n",
      "2022-05-23 23:56:45 (2.46 MB/s) - ‘Homo_sapiens.GRCh38.dna.primary_assembly.fa.gz’ saved [881214396/881214396]\n",
      "\n",
      "--2022-05-23 23:56:45--  http://ftp.ensembl.org/pub/release-90/gtf/homo_sapiens/Homo_sapiens.GRCh38.90.gtf.gz\n",
      "Resolving ftp.ensembl.org (ftp.ensembl.org)... 193.62.193.139\n",
      "Connecting to ftp.ensembl.org (ftp.ensembl.org)|193.62.193.139|:80... connected.\n",
      "HTTP request sent, awaiting response... 200 OK\n",
      "Length: 41837030 (40M) [application/x-gzip]\n",
      "Saving to: ‘Homo_sapiens.GRCh38.90.gtf.gz’\n",
      "\n",
      "Homo_sapiens.GRCh38 100%[===================>]  39.90M  2.34MB/s    in 16s     \n",
      "\n",
      "2022-05-23 23:57:02 (2.56 MB/s) - ‘Homo_sapiens.GRCh38.90.gtf.gz’ saved [41837030/41837030]\n",
      "\n",
      "--2022-05-23 23:57:02--  http://hgdownload.soe.ucsc.edu/admin/exe/linux.x86_64/bedGraphToBigWig\n",
      "Resolving hgdownload.soe.ucsc.edu (hgdownload.soe.ucsc.edu)... 128.114.119.163\n",
      "Connecting to hgdownload.soe.ucsc.edu (hgdownload.soe.ucsc.edu)|128.114.119.163|:80... connected.\n",
      "HTTP request sent, awaiting response... 200 OK\n",
      "Length: 9496024 (9.1M)\n",
      "Saving to: ‘bedGraphToBigWig’\n",
      "\n",
      "bedGraphToBigWig    100%[===================>]   9.06M  2.53MB/s    in 3.6s    \n",
      "\n",
      "2022-05-23 23:57:10 (2.53 MB/s) - ‘bedGraphToBigWig’ saved [9496024/9496024]\n",
      "\n"
     ]
    }
   ],
   "source": [
    "!wget http://ftp.ensembl.org/pub/release-90/fasta/homo_sapiens/dna/Homo_sapiens.GRCh38.dna.primary_assembly.fa.gz \n",
    "!wget http://ftp.ensembl.org/pub/release-90/gtf/homo_sapiens/Homo_sapiens.GRCh38.90.gtf.gz \n",
    "!wget http://hgdownload.soe.ucsc.edu/admin/exe/linux.x86_64/bedGraphToBigWig"
   ]
  },
  {
   "cell_type": "code",
   "execution_count": 3,
   "metadata": {
    "collapsed": false,
    "execution": {
     "iopub.execute_input": "2022-05-23T22:57:10.903713Z",
     "iopub.status.busy": "2022-05-23T22:57:10.903041Z",
     "iopub.status.idle": "2022-05-23T22:58:49.207121Z",
     "shell.execute_reply": "2022-05-23T22:58:49.204548Z",
     "shell.execute_reply.started": "2022-05-23T22:57:10.903636Z"
    },
    "jupyter": {
     "outputs_hidden": false
    },
    "pycharm": {
     "name": "#%%\n"
    },
    "tags": []
   },
   "outputs": [],
   "source": [
    "!gunzip Homo_sapiens.GRCh38.dna.primary_assembly.fa.gz \n",
    "!gunzip Homo_sapiens.GRCh38.90.gtf.gz"
   ]
  },
  {
   "cell_type": "markdown",
   "metadata": {
    "pycharm": {
     "name": "#%% md\n"
    }
   },
   "source": [
    "## Download POINT-5 example data\n",
    "\n",
    "To demonstrate step-by-step the pre-processing of POINT-5 reads, a publicly available POINT-5 sample from [Sousa-Luís et al. Mol Cel. 2021](https://doi.org/10.1016/j.molcel.2021.02.034) will be used ([SRR12802837](https://www.ncbi.nlm.nih.gov/sra/SRX9271661)). This sample profiles POINT-5 on untreated HeLa cells."
   ]
  },
  {
   "cell_type": "code",
   "execution_count": 4,
   "metadata": {
    "collapsed": false,
    "execution": {
     "iopub.execute_input": "2022-05-23T22:58:49.210762Z",
     "iopub.status.busy": "2022-05-23T22:58:49.210157Z",
     "iopub.status.idle": "2022-05-24T03:29:06.455678Z",
     "shell.execute_reply": "2022-05-24T03:29:06.453880Z",
     "shell.execute_reply.started": "2022-05-23T22:58:49.210700Z"
    },
    "jupyter": {
     "outputs_hidden": false
    },
    "pycharm": {
     "name": "#%%\n"
    }
   },
   "outputs": [
    {
     "name": "stdout",
     "output_type": "stream",
     "text": [
      "spots read      : 94,930,617\n",
      "reads read      : 189,861,234\n",
      "reads written   : 189,861,234\n"
     ]
    }
   ],
   "source": [
    "!fasterq-dump SRR12802837 --threads 20 --split-files"
   ]
  },
  {
   "cell_type": "code",
   "execution_count": 5,
   "metadata": {
    "collapsed": false,
    "execution": {
     "iopub.execute_input": "2022-05-24T03:29:06.458980Z",
     "iopub.status.busy": "2022-05-24T03:29:06.458604Z",
     "iopub.status.idle": "2022-05-24T03:58:06.862125Z",
     "shell.execute_reply": "2022-05-24T03:58:06.859599Z",
     "shell.execute_reply.started": "2022-05-24T03:29:06.458941Z"
    },
    "jupyter": {
     "outputs_hidden": false
    },
    "pycharm": {
     "name": "#%%\n"
    }
   },
   "outputs": [],
   "source": [
    "!pigz -p 20 SRR12802837_1.fastq\n",
    "!pigz -p 20 SRR12802837_2.fastq"
   ]
  },
  {
   "cell_type": "markdown",
   "metadata": {
    "pycharm": {
     "name": "#%% md\n"
    }
   },
   "source": [
    "## Quality control - FastQC"
   ]
  },
  {
   "cell_type": "code",
   "execution_count": 6,
   "metadata": {
    "collapsed": false,
    "execution": {
     "iopub.execute_input": "2022-05-24T03:58:06.865641Z",
     "iopub.status.busy": "2022-05-24T03:58:06.865067Z",
     "iopub.status.idle": "2022-05-24T04:27:49.583792Z",
     "shell.execute_reply": "2022-05-24T04:27:49.581938Z",
     "shell.execute_reply.started": "2022-05-24T03:58:06.865574Z"
    },
    "jupyter": {
     "outputs_hidden": false
    },
    "pycharm": {
     "name": "#%%\n"
    }
   },
   "outputs": [
    {
     "name": "stdout",
     "output_type": "stream",
     "text": [
      "Started analysis of SRR12802837_1.fastq.gz\n",
      "Approx 5% complete for SRR12802837_1.fastq.gz\n",
      "Approx 10% complete for SRR12802837_1.fastq.gz\n",
      "Approx 15% complete for SRR12802837_1.fastq.gz\n",
      "Approx 20% complete for SRR12802837_1.fastq.gz\n",
      "Approx 25% complete for SRR12802837_1.fastq.gz\n",
      "Approx 30% complete for SRR12802837_1.fastq.gz\n",
      "Approx 35% complete for SRR12802837_1.fastq.gz\n",
      "Approx 40% complete for SRR12802837_1.fastq.gz\n",
      "Approx 45% complete for SRR12802837_1.fastq.gz\n",
      "Approx 50% complete for SRR12802837_1.fastq.gz\n",
      "Approx 55% complete for SRR12802837_1.fastq.gz\n",
      "Approx 60% complete for SRR12802837_1.fastq.gz\n",
      "Approx 65% complete for SRR12802837_1.fastq.gz\n",
      "Approx 70% complete for SRR12802837_1.fastq.gz\n",
      "Approx 75% complete for SRR12802837_1.fastq.gz\n",
      "Approx 80% complete for SRR12802837_1.fastq.gz\n",
      "Approx 85% complete for SRR12802837_1.fastq.gz\n",
      "Approx 90% complete for SRR12802837_1.fastq.gz\n",
      "Approx 95% complete for SRR12802837_1.fastq.gz\n",
      "Analysis complete for SRR12802837_1.fastq.gz\n",
      "Started analysis of SRR12802837_2.fastq.gz\n",
      "Approx 5% complete for SRR12802837_2.fastq.gz\n",
      "Approx 10% complete for SRR12802837_2.fastq.gz\n",
      "Approx 15% complete for SRR12802837_2.fastq.gz\n",
      "Approx 20% complete for SRR12802837_2.fastq.gz\n",
      "Approx 25% complete for SRR12802837_2.fastq.gz\n",
      "Approx 30% complete for SRR12802837_2.fastq.gz\n",
      "Approx 35% complete for SRR12802837_2.fastq.gz\n",
      "Approx 40% complete for SRR12802837_2.fastq.gz\n",
      "Approx 45% complete for SRR12802837_2.fastq.gz\n",
      "Approx 50% complete for SRR12802837_2.fastq.gz\n",
      "Approx 55% complete for SRR12802837_2.fastq.gz\n",
      "Approx 60% complete for SRR12802837_2.fastq.gz\n",
      "Approx 65% complete for SRR12802837_2.fastq.gz\n",
      "Approx 70% complete for SRR12802837_2.fastq.gz\n",
      "Approx 75% complete for SRR12802837_2.fastq.gz\n",
      "Approx 80% complete for SRR12802837_2.fastq.gz\n",
      "Approx 85% complete for SRR12802837_2.fastq.gz\n",
      "Approx 90% complete for SRR12802837_2.fastq.gz\n",
      "Approx 95% complete for SRR12802837_2.fastq.gz\n",
      "Analysis complete for SRR12802837_2.fastq.gz\n"
     ]
    }
   ],
   "source": [
    "!fastqc -t 20 SRR12802837_1.fastq.gz\n",
    "!fastqc -t 20 SRR12802837_2.fastq.gz"
   ]
  },
  {
   "cell_type": "markdown",
   "metadata": {
    "pycharm": {
     "name": "#%% md\n"
    }
   },
   "source": [
    "## Trimming reads' adaptors - TrimGalore"
   ]
  },
  {
   "cell_type": "code",
   "execution_count": 7,
   "metadata": {
    "execution": {
     "iopub.execute_input": "2022-05-24T04:27:49.587143Z",
     "iopub.status.busy": "2022-05-24T04:27:49.586572Z",
     "iopub.status.idle": "2022-05-24T07:00:30.034261Z",
     "shell.execute_reply": "2022-05-24T07:00:30.032169Z",
     "shell.execute_reply.started": "2022-05-24T04:27:49.587070Z"
    },
    "pycharm": {
     "name": "#%%\n"
    },
    "tags": []
   },
   "outputs": [
    {
     "name": "stdout",
     "output_type": "stream",
     "text": [
      "Multicore support not enabled. Proceeding with single-core trimming.\n",
      "Path to Cutadapt set as: 'cutadapt' (default)\n",
      "Cutadapt seems to be working fine (tested command 'cutadapt --version')\n",
      "Cutadapt version: 4.0\n",
      "single-core operation.\n",
      "\n",
      "gzip: stdout: Broken pipe\n",
      "Writing report to 'SRR12802837_1.fastq.gz_trimming_report.txt'\n",
      "\n",
      "SUMMARISING RUN PARAMETERS\n",
      "==========================\n",
      "Input filename: SRR12802837_1.fastq.gz\n",
      "Trimming mode: paired-end\n",
      "Trim Galore version: 0.6.7\n",
      "Cutadapt version: 4.0\n",
      "Number of cores used for trimming: 1\n",
      "Quality Phred score cutoff: 30\n",
      "Quality encoding type selected: ASCII+33\n",
      "Adapter sequence: 'AGATCGGAAGAGC' (Illumina TruSeq, Sanger iPCR; user defined)\n",
      "Maximum trimming error rate: 0.05\n",
      "Minimum required adapter overlap (stringency): 1 bp\n",
      "Minimum required sequence length for both reads before a sequence pair gets removed: 10 bp\n",
      "Running FastQC on the data once trimming has completed\n",
      "Output file(s) will be GZIP compressed\n",
      "\n",
      "Cutadapt seems to be fairly up-to-date (version 4.0). Setting -j 1\n",
      "Writing final adapter and quality trimmed output to SRR12802837_1_trimmed.fq.gz\n",
      "\n",
      "\n",
      "  >>> Now performing quality (cutoff '-q 30') and adapter trimming in a single pass for the adapter sequence: 'AGATCGGAAGAGC' from file SRR12802837_1.fastq.gz <<< \n",
      "10000000 sequences processed\n",
      "20000000 sequences processed\n",
      "30000000 sequences processed\n",
      "40000000 sequences processed\n",
      "50000000 sequences processed\n",
      "60000000 sequences processed\n",
      "70000000 sequences processed\n",
      "80000000 sequences processed\n",
      "90000000 sequences processed\n",
      "This is cutadapt 4.0 with Python 3.8.10\n",
      "Command line parameters: -j 1 -e 0.05 -q 30 -O 1 -a AGATCGGAAGAGC SRR12802837_1.fastq.gz\n",
      "Processing single-end reads on 1 core ...\n",
      "Finished in 2357.86 s (25 µs/read; 2.42 M reads/minute).\n",
      "\n",
      "=== Summary ===\n",
      "\n",
      "Total reads processed:              94,930,617\n",
      "Reads with adapters:                39,620,457 (41.7%)\n",
      "Reads written (passing filters):    94,930,617 (100.0%)\n",
      "\n",
      "Total basepairs processed: 14,239,592,550 bp\n",
      "Quality-trimmed:             190,325,512 bp (1.3%)\n",
      "Total written (filtered):  13,836,384,320 bp (97.2%)\n",
      "\n",
      "=== Adapter 1 ===\n",
      "\n",
      "Sequence: AGATCGGAAGAGC; Type: regular 3'; Length: 13; Trimmed: 39620457 times\n",
      "\n",
      "Minimum overlap: 1\n",
      "No. of allowed errors:\n",
      "1-13 bp: 0\n",
      "\n",
      "Bases preceding removed adapters:\n",
      "  A: 34.1%\n",
      "  C: 26.8%\n",
      "  G: 18.9%\n",
      "  T: 20.2%\n",
      "  none/other: 0.0%\n",
      "\n",
      "Overview of removed sequences\n",
      "length\tcount\texpect\tmax.err\terror counts\n",
      "1\t24546378\t23732654.2\t0\t24546378\n",
      "2\t6542464\t5933163.6\t0\t6542464\n",
      "3\t2339821\t1483290.9\t0\t2339821\n",
      "4\t647299\t370822.7\t0\t647299\n",
      "5\t263868\t92705.7\t0\t263868\n",
      "6\t178120\t23176.4\t0\t178120\n",
      "7\t170581\t5794.1\t0\t170581\n",
      "8\t183246\t1448.5\t0\t183246\n",
      "9\t163524\t362.1\t0\t163524\n",
      "10\t158752\t90.5\t0\t158752\n",
      "11\t162390\t22.6\t0\t162390\n",
      "12\t156172\t5.7\t0\t156172\n",
      "13\t139534\t1.4\t0\t139534\n",
      "14\t156002\t1.4\t0\t156002\n",
      "15\t144589\t1.4\t0\t144589\n",
      "16\t142388\t1.4\t0\t142388\n",
      "17\t141783\t1.4\t0\t141783\n",
      "18\t131681\t1.4\t0\t131681\n",
      "19\t119697\t1.4\t0\t119697\n",
      "20\t122972\t1.4\t0\t122972\n",
      "21\t117432\t1.4\t0\t117432\n",
      "22\t110433\t1.4\t0\t110433\n",
      "23\t114899\t1.4\t0\t114899\n",
      "24\t107211\t1.4\t0\t107211\n",
      "25\t100797\t1.4\t0\t100797\n",
      "26\t96420\t1.4\t0\t96420\n",
      "27\t96979\t1.4\t0\t96979\n",
      "28\t87406\t1.4\t0\t87406\n",
      "29\t90459\t1.4\t0\t90459\n",
      "30\t84669\t1.4\t0\t84669\n",
      "31\t76611\t1.4\t0\t76611\n",
      "32\t77464\t1.4\t0\t77464\n",
      "33\t79039\t1.4\t0\t79039\n",
      "34\t73279\t1.4\t0\t73279\n",
      "35\t78395\t1.4\t0\t78395\n",
      "36\t65926\t1.4\t0\t65926\n",
      "37\t63769\t1.4\t0\t63769\n",
      "38\t64811\t1.4\t0\t64811\n",
      "39\t66132\t1.4\t0\t66132\n",
      "40\t60433\t1.4\t0\t60433\n",
      "41\t82844\t1.4\t0\t82844\n",
      "42\t67227\t1.4\t0\t67227\n",
      "43\t318721\t1.4\t0\t318721\n",
      "44\t10687\t1.4\t0\t10687\n",
      "45\t34812\t1.4\t0\t34812\n",
      "46\t116689\t1.4\t0\t116689\n",
      "47\t40427\t1.4\t0\t40427\n",
      "48\t14439\t1.4\t0\t14439\n",
      "49\t47923\t1.4\t0\t47923\n",
      "50\t9727\t1.4\t0\t9727\n",
      "51\t3936\t1.4\t0\t3936\n",
      "52\t27614\t1.4\t0\t27614\n",
      "53\t14833\t1.4\t0\t14833\n",
      "54\t6215\t1.4\t0\t6215\n",
      "55\t5370\t1.4\t0\t5370\n",
      "56\t1995\t1.4\t0\t1995\n",
      "57\t11252\t1.4\t0\t11252\n",
      "58\t738\t1.4\t0\t738\n",
      "59\t1597\t1.4\t0\t1597\n",
      "60\t13067\t1.4\t0\t13067\n",
      "61\t2171\t1.4\t0\t2171\n",
      "62\t743\t1.4\t0\t743\n",
      "63\t6899\t1.4\t0\t6899\n",
      "64\t8319\t1.4\t0\t8319\n",
      "65\t1150\t1.4\t0\t1150\n",
      "66\t7101\t1.4\t0\t7101\n",
      "67\t5320\t1.4\t0\t5320\n",
      "68\t4111\t1.4\t0\t4111\n",
      "69\t113\t1.4\t0\t113\n",
      "70\t185\t1.4\t0\t185\n",
      "71\t1681\t1.4\t0\t1681\n",
      "72\t5946\t1.4\t0\t5946\n",
      "73\t9046\t1.4\t0\t9046\n",
      "74\t10351\t1.4\t0\t10351\n",
      "75\t10654\t1.4\t0\t10654\n",
      "76\t9901\t1.4\t0\t9901\n",
      "77\t9551\t1.4\t0\t9551\n",
      "78\t9444\t1.4\t0\t9444\n",
      "79\t9627\t1.4\t0\t9627\n",
      "80\t8668\t1.4\t0\t8668\n",
      "81\t8596\t1.4\t0\t8596\n",
      "82\t8496\t1.4\t0\t8496\n",
      "83\t8193\t1.4\t0\t8193\n",
      "84\t8206\t1.4\t0\t8206\n",
      "85\t8566\t1.4\t0\t8566\n",
      "86\t7678\t1.4\t0\t7678\n",
      "87\t7428\t1.4\t0\t7428\n",
      "88\t7223\t1.4\t0\t7223\n",
      "89\t6964\t1.4\t0\t6964\n",
      "90\t8158\t1.4\t0\t8158\n",
      "91\t6337\t1.4\t0\t6337\n",
      "92\t5649\t1.4\t0\t5649\n",
      "93\t5562\t1.4\t0\t5562\n",
      "94\t6096\t1.4\t0\t6096\n",
      "95\t5997\t1.4\t0\t5997\n",
      "96\t5644\t1.4\t0\t5644\n",
      "97\t5133\t1.4\t0\t5133\n",
      "98\t5113\t1.4\t0\t5113\n",
      "99\t4592\t1.4\t0\t4592\n",
      "100\t4384\t1.4\t0\t4384\n",
      "101\t4319\t1.4\t0\t4319\n",
      "102\t4074\t1.4\t0\t4074\n",
      "103\t3834\t1.4\t0\t3834\n",
      "104\t3947\t1.4\t0\t3947\n",
      "105\t3645\t1.4\t0\t3645\n",
      "106\t3631\t1.4\t0\t3631\n",
      "107\t3327\t1.4\t0\t3327\n",
      "108\t3474\t1.4\t0\t3474\n",
      "109\t3354\t1.4\t0\t3354\n",
      "110\t3584\t1.4\t0\t3584\n",
      "111\t3193\t1.4\t0\t3193\n",
      "112\t3385\t1.4\t0\t3385\n",
      "113\t2878\t1.4\t0\t2878\n",
      "114\t2883\t1.4\t0\t2883\n",
      "115\t2986\t1.4\t0\t2986\n",
      "116\t3219\t1.4\t0\t3219\n",
      "117\t3280\t1.4\t0\t3280\n",
      "118\t2879\t1.4\t0\t2879\n",
      "119\t2962\t1.4\t0\t2962\n",
      "120\t3173\t1.4\t0\t3173\n",
      "121\t3174\t1.4\t0\t3174\n",
      "122\t3160\t1.4\t0\t3160\n",
      "123\t3215\t1.4\t0\t3215\n",
      "124\t3376\t1.4\t0\t3376\n",
      "125\t3653\t1.4\t0\t3653\n",
      "126\t3965\t1.4\t0\t3965\n",
      "127\t4300\t1.4\t0\t4300\n",
      "128\t4455\t1.4\t0\t4455\n",
      "129\t4411\t1.4\t0\t4411\n",
      "130\t4334\t1.4\t0\t4334\n",
      "131\t4643\t1.4\t0\t4643\n",
      "132\t5266\t1.4\t0\t5266\n",
      "133\t4020\t1.4\t0\t4020\n",
      "134\t3404\t1.4\t0\t3404\n",
      "135\t2301\t1.4\t0\t2301\n",
      "136\t2127\t1.4\t0\t2127\n",
      "137\t1776\t1.4\t0\t1776\n",
      "138\t749\t1.4\t0\t749\n",
      "139\t320\t1.4\t0\t320\n",
      "140\t143\t1.4\t0\t143\n",
      "141\t160\t1.4\t0\t160\n",
      "142\t319\t1.4\t0\t319\n",
      "143\t1236\t1.4\t0\t1236\n",
      "144\t6614\t1.4\t0\t6614\n",
      "145\t8269\t1.4\t0\t8269\n",
      "146\t7871\t1.4\t0\t7871\n",
      "147\t44506\t1.4\t0\t44506\n",
      "148\t7050\t1.4\t0\t7050\n",
      "149\t3448\t1.4\t0\t3448\n",
      "150\t1231\t1.4\t0\t1231\n",
      "\n",
      "RUN STATISTICS FOR INPUT FILE: SRR12802837_1.fastq.gz\n",
      "=============================================\n",
      "94930617 sequences processed in total\n",
      "The length threshold of paired-end sequences gets evaluated later on (in the validation step)\n",
      "\n",
      "Writing report to 'SRR12802837_2.fastq.gz_trimming_report.txt'\n",
      "\n",
      "SUMMARISING RUN PARAMETERS\n",
      "==========================\n",
      "Input filename: SRR12802837_2.fastq.gz\n",
      "Trimming mode: paired-end\n",
      "Trim Galore version: 0.6.7\n",
      "Cutadapt version: 4.0\n",
      "Number of cores used for trimming: 1\n",
      "Quality Phred score cutoff: 30\n",
      "Quality encoding type selected: ASCII+33\n",
      "Adapter sequence: 'AGATCGGAAGAGC' (Illumina TruSeq, Sanger iPCR; user defined)\n",
      "Maximum trimming error rate: 0.05\n",
      "Minimum required adapter overlap (stringency): 1 bp\n",
      "Minimum required sequence length for both reads before a sequence pair gets removed: 10 bp\n",
      "Running FastQC on the data once trimming has completed\n",
      "Output file(s) will be GZIP compressed\n",
      "\n",
      "Cutadapt seems to be fairly up-to-date (version 4.0). Setting -j -j 1\n",
      "Writing final adapter and quality trimmed output to SRR12802837_2_trimmed.fq.gz\n",
      "\n",
      "\n",
      "  >>> Now performing quality (cutoff '-q 30') and adapter trimming in a single pass for the adapter sequence: 'AGATCGGAAGAGC' from file SRR12802837_2.fastq.gz <<< \n",
      "10000000 sequences processed\n",
      "20000000 sequences processed\n",
      "30000000 sequences processed\n",
      "40000000 sequences processed\n",
      "50000000 sequences processed\n",
      "60000000 sequences processed\n",
      "70000000 sequences processed\n",
      "80000000 sequences processed\n",
      "90000000 sequences processed\n",
      "This is cutadapt 4.0 with Python 3.8.10\n",
      "Command line parameters: -j 1 -e 0.05 -q 30 -O 1 -a AGATCGGAAGAGC SRR12802837_2.fastq.gz\n",
      "Processing single-end reads on 1 core ...\n",
      "Finished in 2492.88 s (26 µs/read; 2.28 M reads/minute).\n",
      "\n",
      "=== Summary ===\n",
      "\n",
      "Total reads processed:              94,930,617\n",
      "Reads with adapters:                37,631,272 (39.6%)\n",
      "Reads written (passing filters):    94,930,617 (100.0%)\n",
      "\n",
      "Total basepairs processed: 14,239,592,550 bp\n",
      "Quality-trimmed:             306,651,130 bp (2.2%)\n",
      "Total written (filtered):  13,736,698,845 bp (96.5%)\n",
      "\n",
      "=== Adapter 1 ===\n",
      "\n",
      "Sequence: AGATCGGAAGAGC; Type: regular 3'; Length: 13; Trimmed: 37631272 times\n",
      "\n",
      "Minimum overlap: 1\n",
      "No. of allowed errors:\n",
      "1-13 bp: 0\n",
      "\n",
      "Bases preceding removed adapters:\n",
      "  A: 29.0%\n",
      "  C: 36.4%\n",
      "  G: 16.0%\n",
      "  T: 18.6%\n",
      "  none/other: 0.0%\n",
      "\n",
      "Overview of removed sequences\n",
      "length\tcount\texpect\tmax.err\terror counts\n",
      "1\t23983323\t23732654.2\t0\t23983323\n",
      "2\t5679620\t5933163.6\t0\t5679620\n",
      "3\t1928164\t1483290.9\t0\t1928164\n",
      "4\t594081\t370822.7\t0\t594081\n",
      "5\t261863\t92705.7\t0\t261863\n",
      "6\t178733\t23176.4\t0\t178733\n",
      "7\t181203\t5794.1\t0\t181203\n",
      "8\t198347\t1448.5\t0\t198347\n",
      "9\t135702\t362.1\t0\t135702\n",
      "10\t164114\t90.5\t0\t164114\n",
      "11\t153241\t22.6\t0\t153241\n",
      "12\t161134\t5.7\t0\t161134\n",
      "13\t136832\t1.4\t0\t136832\n",
      "14\t183941\t1.4\t0\t183941\n",
      "15\t131895\t1.4\t0\t131895\n",
      "16\t138517\t1.4\t0\t138517\n",
      "17\t231333\t1.4\t0\t231333\n",
      "18\t91132\t1.4\t0\t91132\n",
      "19\t282625\t1.4\t0\t282625\n",
      "20\t97822\t1.4\t0\t97822\n",
      "21\t121488\t1.4\t0\t121488\n",
      "22\t105409\t1.4\t0\t105409\n",
      "23\t109867\t1.4\t0\t109867\n",
      "24\t544081\t1.4\t0\t544081\n",
      "25\t92894\t1.4\t0\t92894\n",
      "26\t68813\t1.4\t0\t68813\n",
      "27\t46204\t1.4\t0\t46204\n",
      "28\t139604\t1.4\t0\t139604\n",
      "29\t17161\t1.4\t0\t17161\n",
      "30\t115633\t1.4\t0\t115633\n",
      "31\t19949\t1.4\t0\t19949\n",
      "32\t142500\t1.4\t0\t142500\n",
      "33\t57753\t1.4\t0\t57753\n",
      "34\t18564\t1.4\t0\t18564\n",
      "35\t61411\t1.4\t0\t61411\n",
      "36\t8019\t1.4\t0\t8019\n",
      "37\t19512\t1.4\t0\t19512\n",
      "38\t9275\t1.4\t0\t9275\n",
      "39\t14698\t1.4\t0\t14698\n",
      "40\t7646\t1.4\t0\t7646\n",
      "41\t44754\t1.4\t0\t44754\n",
      "42\t59589\t1.4\t0\t59589\n",
      "43\t16252\t1.4\t0\t16252\n",
      "44\t41777\t1.4\t0\t41777\n",
      "45\t62414\t1.4\t0\t62414\n",
      "46\t22921\t1.4\t0\t22921\n",
      "47\t16653\t1.4\t0\t16653\n",
      "48\t54445\t1.4\t0\t54445\n",
      "49\t23829\t1.4\t0\t23829\n",
      "50\t8250\t1.4\t0\t8250\n",
      "51\t42110\t1.4\t0\t42110\n",
      "52\t29929\t1.4\t0\t29929\n",
      "53\t10201\t1.4\t0\t10201\n",
      "54\t14457\t1.4\t0\t14457\n",
      "55\t10646\t1.4\t0\t10646\n",
      "56\t4258\t1.4\t0\t4258\n",
      "57\t6446\t1.4\t0\t6446\n",
      "58\t7715\t1.4\t0\t7715\n",
      "59\t3544\t1.4\t0\t3544\n",
      "60\t2670\t1.4\t0\t2670\n",
      "61\t2933\t1.4\t0\t2933\n",
      "62\t3484\t1.4\t0\t3484\n",
      "63\t5326\t1.4\t0\t5326\n",
      "64\t9256\t1.4\t0\t9256\n",
      "65\t8539\t1.4\t0\t8539\n",
      "66\t10465\t1.4\t0\t10465\n",
      "67\t11149\t1.4\t0\t11149\n",
      "68\t11456\t1.4\t0\t11456\n",
      "69\t11239\t1.4\t0\t11239\n",
      "70\t10655\t1.4\t0\t10655\n",
      "71\t11079\t1.4\t0\t11079\n",
      "72\t11030\t1.4\t0\t11030\n",
      "73\t10938\t1.4\t0\t10938\n",
      "74\t10228\t1.4\t0\t10228\n",
      "75\t9826\t1.4\t0\t9826\n",
      "76\t8779\t1.4\t0\t8779\n",
      "77\t8563\t1.4\t0\t8563\n",
      "78\t8839\t1.4\t0\t8839\n",
      "79\t8510\t1.4\t0\t8510\n",
      "80\t7955\t1.4\t0\t7955\n",
      "81\t7972\t1.4\t0\t7972\n",
      "82\t7462\t1.4\t0\t7462\n",
      "83\t7447\t1.4\t0\t7447\n",
      "84\t7408\t1.4\t0\t7408\n",
      "85\t7775\t1.4\t0\t7775\n",
      "86\t7517\t1.4\t0\t7517\n",
      "87\t7517\t1.4\t0\t7517\n",
      "88\t7150\t1.4\t0\t7150\n",
      "89\t6427\t1.4\t0\t6427\n",
      "90\t7149\t1.4\t0\t7149\n",
      "91\t5590\t1.4\t0\t5590\n",
      "92\t5007\t1.4\t0\t5007\n",
      "93\t5326\t1.4\t0\t5326\n",
      "94\t5743\t1.4\t0\t5743\n",
      "95\t5691\t1.4\t0\t5691\n",
      "96\t5456\t1.4\t0\t5456\n",
      "97\t4907\t1.4\t0\t4907\n",
      "98\t4960\t1.4\t0\t4960\n",
      "99\t4668\t1.4\t0\t4668\n",
      "100\t4493\t1.4\t0\t4493\n",
      "101\t4373\t1.4\t0\t4373\n",
      "102\t4180\t1.4\t0\t4180\n",
      "103\t3680\t1.4\t0\t3680\n",
      "104\t3893\t1.4\t0\t3893\n",
      "105\t3694\t1.4\t0\t3694\n",
      "106\t3722\t1.4\t0\t3722\n",
      "107\t3362\t1.4\t0\t3362\n",
      "108\t3354\t1.4\t0\t3354\n",
      "109\t3391\t1.4\t0\t3391\n",
      "110\t3611\t1.4\t0\t3611\n",
      "111\t3440\t1.4\t0\t3440\n",
      "112\t3477\t1.4\t0\t3477\n",
      "113\t3022\t1.4\t0\t3022\n",
      "114\t3062\t1.4\t0\t3062\n",
      "115\t2856\t1.4\t0\t2856\n",
      "116\t3084\t1.4\t0\t3084\n",
      "117\t3052\t1.4\t0\t3052\n",
      "118\t2738\t1.4\t0\t2738\n",
      "119\t2890\t1.4\t0\t2890\n",
      "120\t3002\t1.4\t0\t3002\n",
      "121\t3143\t1.4\t0\t3143\n",
      "122\t3111\t1.4\t0\t3111\n",
      "123\t3252\t1.4\t0\t3252\n",
      "124\t3388\t1.4\t0\t3388\n",
      "125\t3616\t1.4\t0\t3616\n",
      "126\t3810\t1.4\t0\t3810\n",
      "127\t4223\t1.4\t0\t4223\n",
      "128\t4284\t1.4\t0\t4284\n",
      "129\t4301\t1.4\t0\t4301\n",
      "130\t4048\t1.4\t0\t4048\n",
      "131\t4488\t1.4\t0\t4488\n",
      "132\t5043\t1.4\t0\t5043\n",
      "133\t3904\t1.4\t0\t3904\n",
      "134\t3303\t1.4\t0\t3303\n",
      "135\t2246\t1.4\t0\t2246\n",
      "136\t2033\t1.4\t0\t2033\n",
      "137\t1689\t1.4\t0\t1689\n",
      "138\t749\t1.4\t0\t749\n",
      "139\t301\t1.4\t0\t301\n",
      "140\t136\t1.4\t0\t136\n",
      "141\t158\t1.4\t0\t158\n",
      "142\t325\t1.4\t0\t325\n",
      "143\t1241\t1.4\t0\t1241\n",
      "144\t6474\t1.4\t0\t6474\n",
      "145\t8115\t1.4\t0\t8115\n",
      "146\t7818\t1.4\t0\t7818\n",
      "147\t43785\t1.4\t0\t43785\n",
      "148\t6893\t1.4\t0\t6893\n",
      "149\t3418\t1.4\t0\t3418\n",
      "150\t1217\t1.4\t0\t1217\n",
      "\n",
      "RUN STATISTICS FOR INPUT FILE: SRR12802837_2.fastq.gz\n",
      "=============================================\n",
      "94930617 sequences processed in total\n",
      "The length threshold of paired-end sequences gets evaluated later on (in the validation step)\n",
      "\n",
      "Validate paired-end files SRR12802837_1_trimmed.fq.gz and SRR12802837_2_trimmed.fq.gz\n",
      "file_1: SRR12802837_1_trimmed.fq.gz, file_2: SRR12802837_2_trimmed.fq.gz\n",
      "\n",
      "\n",
      ">>>>> Now validing the length of the 2 paired-end infiles: SRR12802837_1_trimmed.fq.gz and SRR12802837_2_trimmed.fq.gz <<<<<\n",
      "Writing validated paired-end Read 1 reads to SRR12802837_1_val_1.fq.gz\n",
      "Writing validated paired-end Read 2 reads to SRR12802837_2_val_2.fq.gz\n",
      "\n",
      "Total number of sequences analysed: 94930617\n",
      "\n",
      "Number of sequence pairs removed because at least one read was shorter than the length cutoff (10 bp): 758881 (0.80%)\n",
      "\n",
      "\n",
      "  >>> Now running FastQC on the validated data SRR12802837_1_val_1.fq.gz<<<\n",
      "\n",
      "Started analysis of SRR12802837_1_val_1.fq.gz\n",
      "Approx 5% complete for SRR12802837_1_val_1.fq.gz\n",
      "Approx 10% complete for SRR12802837_1_val_1.fq.gz\n",
      "Approx 15% complete for SRR12802837_1_val_1.fq.gz\n",
      "Approx 20% complete for SRR12802837_1_val_1.fq.gz\n",
      "Approx 25% complete for SRR12802837_1_val_1.fq.gz\n",
      "Approx 30% complete for SRR12802837_1_val_1.fq.gz\n",
      "Approx 35% complete for SRR12802837_1_val_1.fq.gz\n",
      "Approx 40% complete for SRR12802837_1_val_1.fq.gz\n",
      "Approx 45% complete for SRR12802837_1_val_1.fq.gz\n",
      "Approx 50% complete for SRR12802837_1_val_1.fq.gz\n",
      "Approx 55% complete for SRR12802837_1_val_1.fq.gz\n",
      "Approx 60% complete for SRR12802837_1_val_1.fq.gz\n",
      "Approx 65% complete for SRR12802837_1_val_1.fq.gz\n",
      "Approx 70% complete for SRR12802837_1_val_1.fq.gz\n",
      "Approx 75% complete for SRR12802837_1_val_1.fq.gz\n",
      "Approx 80% complete for SRR12802837_1_val_1.fq.gz\n",
      "Approx 85% complete for SRR12802837_1_val_1.fq.gz\n",
      "Approx 90% complete for SRR12802837_1_val_1.fq.gz\n",
      "Approx 95% complete for SRR12802837_1_val_1.fq.gz\n",
      "Analysis complete for SRR12802837_1_val_1.fq.gz\n",
      "\n",
      "  >>> Now running FastQC on the validated data SRR12802837_2_val_2.fq.gz<<<\n",
      "\n",
      "Started analysis of SRR12802837_2_val_2.fq.gz\n",
      "Approx 5% complete for SRR12802837_2_val_2.fq.gz\n",
      "Approx 10% complete for SRR12802837_2_val_2.fq.gz\n",
      "Approx 15% complete for SRR12802837_2_val_2.fq.gz\n",
      "Approx 20% complete for SRR12802837_2_val_2.fq.gz\n",
      "Approx 25% complete for SRR12802837_2_val_2.fq.gz\n",
      "Approx 30% complete for SRR12802837_2_val_2.fq.gz\n",
      "Approx 35% complete for SRR12802837_2_val_2.fq.gz\n",
      "Approx 40% complete for SRR12802837_2_val_2.fq.gz\n",
      "Approx 45% complete for SRR12802837_2_val_2.fq.gz\n",
      "Approx 50% complete for SRR12802837_2_val_2.fq.gz\n",
      "Approx 55% complete for SRR12802837_2_val_2.fq.gz\n",
      "Approx 60% complete for SRR12802837_2_val_2.fq.gz\n",
      "Approx 65% complete for SRR12802837_2_val_2.fq.gz\n",
      "Approx 70% complete for SRR12802837_2_val_2.fq.gz\n",
      "Approx 75% complete for SRR12802837_2_val_2.fq.gz\n",
      "Approx 80% complete for SRR12802837_2_val_2.fq.gz\n",
      "Approx 85% complete for SRR12802837_2_val_2.fq.gz\n",
      "Approx 90% complete for SRR12802837_2_val_2.fq.gz\n",
      "Approx 95% complete for SRR12802837_2_val_2.fq.gz\n",
      "Analysis complete for SRR12802837_2_val_2.fq.gz\n",
      "Deleting both intermediate output files SRR12802837_1_trimmed.fq.gz and SRR12802837_2_trimmed.fq.gz\n",
      "\n",
      "====================================================================================================\n",
      "\n"
     ]
    }
   ],
   "source": [
    "!trim_galore --phred33 -q 30 -e 0.05 --illumina --fastqc --paired --length 10 SRR12802837_1.fastq.gz SRR12802837_2.fastq.gz"
   ]
  },
  {
   "cell_type": "markdown",
   "metadata": {
    "pycharm": {
     "name": "#%% md\n"
    }
   },
   "source": [
    "## Align POINT-seq reads - STAR"
   ]
  },
  {
   "cell_type": "markdown",
   "metadata": {
    "pycharm": {
     "name": "#%% md\n"
    }
   },
   "source": [
    "### Create STAR index"
   ]
  },
  {
   "cell_type": "code",
   "execution_count": 8,
   "metadata": {
    "collapsed": false,
    "execution": {
     "iopub.execute_input": "2022-05-24T07:00:30.037791Z",
     "iopub.status.busy": "2022-05-24T07:00:30.037055Z",
     "iopub.status.idle": "2022-05-24T07:53:17.990388Z",
     "shell.execute_reply": "2022-05-24T07:53:17.988024Z",
     "shell.execute_reply.started": "2022-05-24T07:00:30.037731Z"
    },
    "jupyter": {
     "outputs_hidden": false
    },
    "pycharm": {
     "name": "#%%\n"
    },
    "tags": []
   },
   "outputs": [
    {
     "name": "stdout",
     "output_type": "stream",
     "text": [
      "\tSTAR --runMode genomeGenerate --genomeDir ./hg38_STAR_INDEX --genomeFastaFiles Homo_sapiens.GRCh38.dna.primary_assembly.fa --sjdbGTFfile Homo_sapiens.GRCh38.90.gtf --sjdbOverhang 149 --limitGenomeGenerateRAM 50000000000 --runThreadN 10\n",
      "\tSTAR version: 2.7.10a   compiled: 2022-01-14T18:50:00-05:00 :/home/dobin/data/STAR/STARcode/STAR.master/source\n",
      "May 24 08:00:30 ..... started STAR run\n",
      "May 24 08:00:30 ... starting to generate Genome files\n",
      "May 24 08:01:41 ..... processing annotations GTF\n",
      "May 24 08:02:18 ... starting to sort Suffix Array. This may take a long time...\n",
      "May 24 08:02:34 ... sorting Suffix Array chunks and saving them to disk...\n",
      "May 24 08:32:15 ... loading chunks from disk, packing SA...\n",
      "May 24 08:38:34 ... finished generating suffix array\n",
      "May 24 08:38:34 ... generating Suffix Array index\n",
      "May 24 08:43:51 ... completed Suffix Array index\n",
      "May 24 08:43:52 ..... inserting junctions into the genome indices\n",
      "May 24 08:49:09 ... writing Genome to disk ...\n",
      "May 24 08:49:37 ... writing Suffix Array to disk ...\n",
      "May 24 08:52:59 ... writing SAindex to disk\n",
      "May 24 08:53:16 ..... finished successfully\n"
     ]
    }
   ],
   "source": [
    "!STAR --runMode genomeGenerate --genomeDir ./hg38_STAR_INDEX --genomeFastaFiles Homo_sapiens.GRCh38.dna.primary_assembly.fa --sjdbGTFfile Homo_sapiens.GRCh38.90.gtf --sjdbOverhang  149 --limitGenomeGenerateRAM 50000000000 --runThreadN 10"
   ]
  },
  {
   "cell_type": "markdown",
   "metadata": {
    "pycharm": {
     "name": "#%% md\n"
    }
   },
   "source": [
    "### Align the reads"
   ]
  },
  {
   "cell_type": "code",
   "execution_count": 9,
   "metadata": {
    "collapsed": false,
    "execution": {
     "iopub.execute_input": "2022-05-24T07:56:23.341231Z",
     "iopub.status.busy": "2022-05-24T07:56:23.339728Z",
     "iopub.status.idle": "2022-05-24T08:23:45.183393Z",
     "shell.execute_reply": "2022-05-24T08:23:45.179529Z",
     "shell.execute_reply.started": "2022-05-24T07:56:23.341141Z"
    },
    "jupyter": {
     "outputs_hidden": false
    },
    "pycharm": {
     "name": "#%%\n"
    },
    "tags": []
   },
   "outputs": [
    {
     "name": "stdout",
     "output_type": "stream",
     "text": [
      "\tSTAR --genomeDir ./hg38_STAR_INDEX --outSAMtype BAM SortedByCoordinate --outFilterScoreMin 10 --readFilesCommand zcat --readFilesIn SRR12802837_1_val_1.fq.gz SRR12802837_2_val_2.fq.gz --outFileNamePrefix SRR12802837 --outFilterMultimapNmax 1 --limitBAMsortRAM 50000000000 --runThreadN 20\n",
      "\tSTAR version: 2.7.10a   compiled: 2022-01-14T18:50:00-05:00 :/home/dobin/data/STAR/STARcode/STAR.master/source\n",
      "May 24 08:56:23 ..... started STAR run\n",
      "May 24 08:56:23 ..... loading genome\n",
      "May 24 08:57:58 ..... started mapping\n",
      "May 24 09:14:43 ..... finished mapping\n",
      "May 24 09:14:48 ..... started sorting BAM\n",
      "May 24 09:23:37 ..... finished successfully\n"
     ]
    }
   ],
   "source": [
    "!STAR --genomeDir ./hg38_STAR_INDEX --outSAMtype BAM SortedByCoordinate --outFilterScoreMin 10 --readFilesCommand zcat  --readFilesIn SRR12802837_1_val_1.fq.gz SRR12802837_2_val_2.fq.gz --outFileNamePrefix SRR12802837 --outFilterMultimapNmax 1 --limitBAMsortRAM 50000000000 --runThreadN 20"
   ]
  },
  {
   "cell_type": "markdown",
   "metadata": {},
   "source": [
    "## Obtain reads' 5'end "
   ]
  },
  {
   "cell_type": "code",
   "execution_count": 10,
   "metadata": {
    "execution": {
     "iopub.execute_input": "2022-05-24T08:31:07.731072Z",
     "iopub.status.busy": "2022-05-24T08:31:07.730444Z",
     "iopub.status.idle": "2022-05-24T10:45:15.394518Z",
     "shell.execute_reply": "2022-05-24T10:45:15.390533Z",
     "shell.execute_reply.started": "2022-05-24T08:31:07.731020Z"
    },
    "tags": []
   },
   "outputs": [
    {
     "name": "stdout",
     "output_type": "stream",
     "text": [
      "Processing SRR12802837Aligned.sortedByCoord.out file!\n",
      "[E::idx_find_and_load] Could not retrieve index file for 'SRR12802837Aligned.sortedByCoord.out.bam'\n",
      "[E::idx_find_and_load] Could not retrieve index file for 'SRR12802837Aligned.sortedByCoord.out.bam'\n"
     ]
    }
   ],
   "source": [
    "!python get_5SNR_POINT5.py SRR12802837Aligned.sortedByCoord.out.bam"
   ]
  },
  {
   "cell_type": "markdown",
   "metadata": {
    "pycharm": {
     "name": "#%% md\n"
    }
   },
   "source": [
    "## Filtering reads from the alignment file and split by biological strand"
   ]
  },
  {
   "cell_type": "code",
   "execution_count": 11,
   "metadata": {
    "collapsed": false,
    "execution": {
     "iopub.execute_input": "2022-05-24T10:45:15.410359Z",
     "iopub.status.busy": "2022-05-24T10:45:15.410002Z",
     "iopub.status.idle": "2022-05-24T10:46:27.969242Z",
     "shell.execute_reply": "2022-05-24T10:46:27.967294Z",
     "shell.execute_reply.started": "2022-05-24T10:45:15.410301Z"
    },
    "jupyter": {
     "outputs_hidden": false
    },
    "pycharm": {
     "name": "#%%\n"
    }
   },
   "outputs": [],
   "source": [
    "!samtools view -F 0x10 -o F_SRR12802837.bam 5pSNR_SRR12802837Aligned.sortedByCoord.out.bam\n",
    "!samtools view -f 0x10 -o R_SRR12802837.bam 5pSNR_SRR12802837Aligned.sortedByCoord.out.bam"
   ]
  },
  {
   "cell_type": "markdown",
   "metadata": {
    "pycharm": {
     "name": "#%% md\n"
    }
   },
   "source": [
    "## Resume the genome-wide nascent signal"
   ]
  },
  {
   "cell_type": "code",
   "execution_count": 12,
   "metadata": {
    "collapsed": false,
    "execution": {
     "iopub.execute_input": "2022-05-24T10:46:27.972237Z",
     "iopub.status.busy": "2022-05-24T10:46:27.971808Z",
     "iopub.status.idle": "2022-05-24T10:52:06.634043Z",
     "shell.execute_reply": "2022-05-24T10:52:06.630950Z",
     "shell.execute_reply.started": "2022-05-24T10:46:27.972179Z"
    },
    "jupyter": {
     "outputs_hidden": false
    },
    "pycharm": {
     "name": "#%%\n"
    }
   },
   "outputs": [],
   "source": [
    "!bedtools genomecov -bga -split -ibam F_SRR12802837.bam | bedtools sort > F_SRR12802837.bg\n",
    "!bedtools genomecov -bga -split -ibam R_SRR12802837.bam | bedtools sort > R_SRR12802837.bg"
   ]
  },
  {
   "cell_type": "code",
   "execution_count": 13,
   "metadata": {
    "collapsed": false,
    "execution": {
     "iopub.execute_input": "2022-05-24T10:52:06.637793Z",
     "iopub.status.busy": "2022-05-24T10:52:06.637389Z",
     "iopub.status.idle": "2022-05-24T10:53:55.535654Z",
     "shell.execute_reply": "2022-05-24T10:53:55.533447Z",
     "shell.execute_reply.started": "2022-05-24T10:52:06.637753Z"
    },
    "jupyter": {
     "outputs_hidden": false
    },
    "pycharm": {
     "name": "#%%\n"
    }
   },
   "outputs": [],
   "source": [
    "!samtools faidx Homo_sapiens.GRCh38.dna.primary_assembly.fa\n",
    "!bedGraphToBigWig F_SRR12802837.bg Homo_sapiens.GRCh38.dna.primary_assembly.fa.fai F_SRR12802837.bw\n",
    "!bedGraphToBigWig R_SRR12802837.bg Homo_sapiens.GRCh38.dna.primary_assembly.fa.fai R_SRR12802837.bw"
   ]
  },
  {
   "cell_type": "code",
   "execution_count": 14,
   "metadata": {
    "execution": {
     "iopub.execute_input": "2022-05-24T10:53:55.539568Z",
     "iopub.status.busy": "2022-05-24T10:53:55.538930Z",
     "iopub.status.idle": "2022-05-24T10:59:26.592222Z",
     "shell.execute_reply": "2022-05-24T10:59:26.589489Z",
     "shell.execute_reply.started": "2022-05-24T10:53:55.539508Z"
    },
    "tags": []
   },
   "outputs": [],
   "source": [
    "!bedtools genomecov -bga -split -ibam F_SRR12802837.bam | bedtools sort > F_SRR12802837.bg\n",
    "!bedtools genomecov -bga -split -ibam R_SRR12802837.bam | bedtools sort > R_SRR12802837.bg"
   ]
  },
  {
   "cell_type": "code",
   "execution_count": 15,
   "metadata": {
    "execution": {
     "iopub.execute_input": "2022-05-24T10:59:26.596860Z",
     "iopub.status.busy": "2022-05-24T10:59:26.596248Z",
     "iopub.status.idle": "2022-05-24T11:01:13.533716Z",
     "shell.execute_reply": "2022-05-24T11:01:13.531809Z",
     "shell.execute_reply.started": "2022-05-24T10:59:26.596798Z"
    },
    "tags": []
   },
   "outputs": [],
   "source": [
    "!samtools faidx Homo_sapiens.GRCh38.dna.primary_assembly.fa\n",
    "!bedGraphToBigWig F_SRR12802837.bg Homo_sapiens.GRCh38.dna.primary_assembly.fa.fai F_SRR12802837.bw\n",
    "!bedGraphToBigWig R_SRR12802837.bg Homo_sapiens.GRCh38.dna.primary_assembly.fa.fai R_SRR12802837.bw"
   ]
  }
 ],
 "metadata": {
  "kernelspec": {
   "display_name": "Python 3 (ipykernel)",
   "language": "python",
   "name": "python3"
  },
  "language_info": {
   "codemirror_mode": {
    "name": "ipython",
    "version": 3
   },
   "file_extension": ".py",
   "mimetype": "text/x-python",
   "name": "python",
   "nbconvert_exporter": "python",
   "pygments_lexer": "ipython3",
   "version": "3.8.10"
  },
  "widgets": {
   "application/vnd.jupyter.widget-state+json": {
    "state": {},
    "version_major": 2,
    "version_minor": 0
   }
  }
 },
 "nbformat": 4,
 "nbformat_minor": 4
}
