{
 "cells": [
  {
   "cell_type": "markdown",
   "metadata": {
    "pycharm": {
     "name": "#%% md\n"
    }
   },
   "source": [
    "# Pre-Processing of POINT-seq data"
   ]
  },
  {
   "cell_type": "markdown",
   "metadata": {
    "pycharm": {
     "name": "#%% md\n"
    }
   },
   "source": [
    "## Loading Packages"
   ]
  },
  {
   "cell_type": "code",
   "execution_count": 1,
   "metadata": {
    "collapsed": false,
    "execution": {
     "iopub.execute_input": "2022-05-23T22:51:02.230655Z",
     "iopub.status.busy": "2022-05-23T22:51:02.230270Z",
     "iopub.status.idle": "2022-05-23T22:51:02.244593Z",
     "shell.execute_reply": "2022-05-23T22:51:02.242240Z",
     "shell.execute_reply.started": "2022-05-23T22:51:02.230576Z"
    },
    "jupyter": {
     "outputs_hidden": false
    },
    "pycharm": {
     "name": "#%%\n"
    },
    "tags": []
   },
   "outputs": [],
   "source": [
    "import os.path\n",
    "import subprocess"
   ]
  },
  {
   "cell_type": "markdown",
   "metadata": {
    "pycharm": {
     "name": "#%% md\n"
    }
   },
   "source": [
    "## Download reference fasta and GTF file with annotated transcripts "
   ]
  },
  {
   "cell_type": "code",
   "execution_count": 2,
   "metadata": {
    "collapsed": false,
    "execution": {
     "iopub.execute_input": "2022-05-23T22:51:02.247618Z",
     "iopub.status.busy": "2022-05-23T22:51:02.246852Z",
     "iopub.status.idle": "2022-05-23T22:57:12.651984Z",
     "shell.execute_reply": "2022-05-23T22:57:12.650254Z",
     "shell.execute_reply.started": "2022-05-23T22:51:02.247574Z"
    },
    "jupyter": {
     "outputs_hidden": false
    },
    "pycharm": {
     "name": "#%%\n"
    },
    "tags": []
   },
   "outputs": [
    {
     "name": "stdout",
     "output_type": "stream",
     "text": [
      "--2022-05-23 23:51:02--  http://ftp.ensembl.org/pub/release-90/fasta/homo_sapiens/dna/Homo_sapiens.GRCh38.dna.primary_assembly.fa.gz\n",
      "Resolving ftp.ensembl.org (ftp.ensembl.org)... 193.62.193.139\n",
      "Connecting to ftp.ensembl.org (ftp.ensembl.org)|193.62.193.139|:80... connected.\n",
      "HTTP request sent, awaiting response... 200 OK\n",
      "Length: 881214396 (840M) [application/x-gzip]\n",
      "Saving to: ‘Homo_sapiens.GRCh38.dna.primary_assembly.fa.gz’\n",
      "\n",
      "Homo_sapiens.GRCh38 100%[===================>] 840.39M  2.50MB/s    in 5m 44s  \n",
      "\n",
      "2022-05-23 23:56:48 (2.44 MB/s) - ‘Homo_sapiens.GRCh38.dna.primary_assembly.fa.gz’ saved [881214396/881214396]\n",
      "\n",
      "--2022-05-23 23:56:48--  http://ftp.ensembl.org/pub/release-90/gtf/homo_sapiens/Homo_sapiens.GRCh38.90.gtf.gz\n",
      "Resolving ftp.ensembl.org (ftp.ensembl.org)... 193.62.193.139\n",
      "Connecting to ftp.ensembl.org (ftp.ensembl.org)|193.62.193.139|:80... connected.\n",
      "HTTP request sent, awaiting response... 200 OK\n",
      "Length: 41837030 (40M) [application/x-gzip]\n",
      "Saving to: ‘Homo_sapiens.GRCh38.90.gtf.gz’\n",
      "\n",
      "Homo_sapiens.GRCh38 100%[===================>]  39.90M  2.50MB/s    in 15s     \n",
      "\n",
      "2022-05-23 23:57:05 (2.59 MB/s) - ‘Homo_sapiens.GRCh38.90.gtf.gz’ saved [41837030/41837030]\n",
      "\n",
      "--2022-05-23 23:57:05--  http://hgdownload.soe.ucsc.edu/admin/exe/linux.x86_64/bedGraphToBigWig\n",
      "Resolving hgdownload.soe.ucsc.edu (hgdownload.soe.ucsc.edu)... 128.114.119.163\n",
      "Connecting to hgdownload.soe.ucsc.edu (hgdownload.soe.ucsc.edu)|128.114.119.163|:80... connected.\n",
      "HTTP request sent, awaiting response... 200 OK\n",
      "Length: 9496024 (9.1M)\n",
      "Saving to: ‘bedGraphToBigWig’\n",
      "\n",
      "bedGraphToBigWig    100%[===================>]   9.06M  3.26MB/s    in 2.8s    \n",
      "\n",
      "2022-05-23 23:57:12 (3.26 MB/s) - ‘bedGraphToBigWig’ saved [9496024/9496024]\n",
      "\n"
     ]
    }
   ],
   "source": [
    "!wget http://ftp.ensembl.org/pub/release-90/fasta/homo_sapiens/dna/Homo_sapiens.GRCh38.dna.primary_assembly.fa.gz \n",
    "!wget http://ftp.ensembl.org/pub/release-90/gtf/homo_sapiens/Homo_sapiens.GRCh38.90.gtf.gz \n",
    "!wget http://hgdownload.soe.ucsc.edu/admin/exe/linux.x86_64/bedGraphToBigWig"
   ]
  },
  {
   "cell_type": "code",
   "execution_count": 3,
   "metadata": {
    "collapsed": false,
    "execution": {
     "iopub.execute_input": "2022-05-23T22:57:12.658313Z",
     "iopub.status.busy": "2022-05-23T22:57:12.656941Z",
     "iopub.status.idle": "2022-05-23T22:58:51.532899Z",
     "shell.execute_reply": "2022-05-23T22:58:51.530815Z",
     "shell.execute_reply.started": "2022-05-23T22:57:12.658235Z"
    },
    "jupyter": {
     "outputs_hidden": false
    },
    "pycharm": {
     "name": "#%%\n"
    },
    "tags": []
   },
   "outputs": [],
   "source": [
    "!gunzip Homo_sapiens.GRCh38.dna.primary_assembly.fa.gz \n",
    "!gunzip Homo_sapiens.GRCh38.90.gtf.gz"
   ]
  },
  {
   "cell_type": "markdown",
   "metadata": {
    "pycharm": {
     "name": "#%% md\n"
    }
   },
   "source": [
    "## Download POINT-seq example data\n",
    "\n",
    "To demonstrate step-by-step the pre-processing of POINT-seq reads, a publicly available POINT-seq sample from [Sousa-Luís et al. Mol Cel. 2021](https://doi.org/10.1016/j.molcel.2021.02.034) will be used ([SRR12802839](https://www.ncbi.nlm.nih.gov/sra?term=SRX9271663)). This sample profiles\n",
    " POINT-seq data on untreated HeLa cells."
   ]
  },
  {
   "cell_type": "code",
   "execution_count": 4,
   "metadata": {
    "collapsed": false,
    "execution": {
     "iopub.execute_input": "2022-05-23T22:58:51.536483Z",
     "iopub.status.busy": "2022-05-23T22:58:51.535794Z",
     "iopub.status.idle": "2022-05-24T03:35:08.746824Z",
     "shell.execute_reply": "2022-05-24T03:35:08.745012Z",
     "shell.execute_reply.started": "2022-05-23T22:58:51.536420Z"
    },
    "jupyter": {
     "outputs_hidden": false
    },
    "pycharm": {
     "name": "#%%\n"
    }
   },
   "outputs": [
    {
     "name": "stdout",
     "output_type": "stream",
     "text": [
      "spots read      : 105,354,827\n",
      "reads read      : 210,709,654\n",
      "reads written   : 210,709,654\n"
     ]
    }
   ],
   "source": [
    "!fasterq-dump SRR12802839 --threads 20 --split-files"
   ]
  },
  {
   "cell_type": "code",
   "execution_count": 5,
   "metadata": {
    "collapsed": false,
    "execution": {
     "iopub.execute_input": "2022-05-24T03:35:08.750123Z",
     "iopub.status.busy": "2022-05-24T03:35:08.749506Z",
     "iopub.status.idle": "2022-05-24T04:02:29.021424Z",
     "shell.execute_reply": "2022-05-24T04:02:29.019554Z",
     "shell.execute_reply.started": "2022-05-24T03:35:08.750074Z"
    },
    "jupyter": {
     "outputs_hidden": false
    },
    "pycharm": {
     "name": "#%%\n"
    }
   },
   "outputs": [],
   "source": [
    "!pigz -p 20 SRR12802839_1.fastq\n",
    "!pigz -p 20 SRR12802839_2.fastq"
   ]
  },
  {
   "cell_type": "markdown",
   "metadata": {
    "pycharm": {
     "name": "#%% md\n"
    }
   },
   "source": [
    "## Quality control - FastQC"
   ]
  },
  {
   "cell_type": "code",
   "execution_count": 6,
   "metadata": {
    "collapsed": false,
    "execution": {
     "iopub.execute_input": "2022-05-24T04:02:29.024631Z",
     "iopub.status.busy": "2022-05-24T04:02:29.024003Z",
     "iopub.status.idle": "2022-05-24T04:35:14.896525Z",
     "shell.execute_reply": "2022-05-24T04:35:14.894979Z",
     "shell.execute_reply.started": "2022-05-24T04:02:29.024558Z"
    },
    "jupyter": {
     "outputs_hidden": false
    },
    "pycharm": {
     "name": "#%%\n"
    }
   },
   "outputs": [
    {
     "name": "stdout",
     "output_type": "stream",
     "text": [
      "Started analysis of SRR12802839_1.fastq.gz\n",
      "Approx 5% complete for SRR12802839_1.fastq.gz\n",
      "Approx 10% complete for SRR12802839_1.fastq.gz\n",
      "Approx 15% complete for SRR12802839_1.fastq.gz\n",
      "Approx 20% complete for SRR12802839_1.fastq.gz\n",
      "Approx 25% complete for SRR12802839_1.fastq.gz\n",
      "Approx 30% complete for SRR12802839_1.fastq.gz\n",
      "Approx 35% complete for SRR12802839_1.fastq.gz\n",
      "Approx 40% complete for SRR12802839_1.fastq.gz\n",
      "Approx 45% complete for SRR12802839_1.fastq.gz\n",
      "Approx 50% complete for SRR12802839_1.fastq.gz\n",
      "Approx 55% complete for SRR12802839_1.fastq.gz\n",
      "Approx 60% complete for SRR12802839_1.fastq.gz\n",
      "Approx 65% complete for SRR12802839_1.fastq.gz\n",
      "Approx 70% complete for SRR12802839_1.fastq.gz\n",
      "Approx 75% complete for SRR12802839_1.fastq.gz\n",
      "Approx 80% complete for SRR12802839_1.fastq.gz\n",
      "Approx 85% complete for SRR12802839_1.fastq.gz\n",
      "Approx 90% complete for SRR12802839_1.fastq.gz\n",
      "Approx 95% complete for SRR12802839_1.fastq.gz\n",
      "Analysis complete for SRR12802839_1.fastq.gz\n",
      "Started analysis of SRR12802839_2.fastq.gz\n",
      "Approx 5% complete for SRR12802839_2.fastq.gz\n",
      "Approx 10% complete for SRR12802839_2.fastq.gz\n",
      "Approx 15% complete for SRR12802839_2.fastq.gz\n",
      "Approx 20% complete for SRR12802839_2.fastq.gz\n",
      "Approx 25% complete for SRR12802839_2.fastq.gz\n",
      "Approx 30% complete for SRR12802839_2.fastq.gz\n",
      "Approx 35% complete for SRR12802839_2.fastq.gz\n",
      "Approx 40% complete for SRR12802839_2.fastq.gz\n",
      "Approx 45% complete for SRR12802839_2.fastq.gz\n",
      "Approx 50% complete for SRR12802839_2.fastq.gz\n",
      "Approx 55% complete for SRR12802839_2.fastq.gz\n",
      "Approx 60% complete for SRR12802839_2.fastq.gz\n",
      "Approx 65% complete for SRR12802839_2.fastq.gz\n",
      "Approx 70% complete for SRR12802839_2.fastq.gz\n",
      "Approx 75% complete for SRR12802839_2.fastq.gz\n",
      "Approx 80% complete for SRR12802839_2.fastq.gz\n",
      "Approx 85% complete for SRR12802839_2.fastq.gz\n",
      "Approx 90% complete for SRR12802839_2.fastq.gz\n",
      "Approx 95% complete for SRR12802839_2.fastq.gz\n",
      "Analysis complete for SRR12802839_2.fastq.gz\n"
     ]
    }
   ],
   "source": [
    "!fastqc -t 20 SRR12802839_1.fastq.gz\n",
    "!fastqc -t 20 SRR12802839_2.fastq.gz"
   ]
  },
  {
   "cell_type": "markdown",
   "metadata": {
    "pycharm": {
     "name": "#%% md\n"
    }
   },
   "source": [
    "## Trimming reads' adaptors - TrimGalore"
   ]
  },
  {
   "cell_type": "code",
   "execution_count": 7,
   "metadata": {
    "collapsed": true,
    "execution": {
     "iopub.execute_input": "2022-05-24T04:35:14.899298Z",
     "iopub.status.busy": "2022-05-24T04:35:14.898709Z",
     "iopub.status.idle": "2022-05-24T07:20:03.409453Z",
     "shell.execute_reply": "2022-05-24T07:20:03.407536Z",
     "shell.execute_reply.started": "2022-05-24T04:35:14.899241Z"
    },
    "jupyter": {
     "outputs_hidden": true
    },
    "pycharm": {
     "name": "#%%\n"
    },
    "tags": []
   },
   "outputs": [
    {
     "name": "stdout",
     "output_type": "stream",
     "text": [
      "Multicore support not enabled. Proceeding with single-core trimming.\n",
      "Path to Cutadapt set as: 'cutadapt' (default)\n",
      "Cutadapt seems to be working fine (tested command 'cutadapt --version')\n",
      "Cutadapt version: 4.0\n",
      "single-core operation.\n",
      "\n",
      "gzip: stdout: Broken pipe\n",
      "Writing report to 'SRR12802839_1.fastq.gz_trimming_report.txt'\n",
      "\n",
      "SUMMARISING RUN PARAMETERS\n",
      "==========================\n",
      "Input filename: SRR12802839_1.fastq.gz\n",
      "Trimming mode: paired-end\n",
      "Trim Galore version: 0.6.7\n",
      "Cutadapt version: 4.0\n",
      "Number of cores used for trimming: 1\n",
      "Quality Phred score cutoff: 30\n",
      "Quality encoding type selected: ASCII+33\n",
      "Adapter sequence: 'AGATCGGAAGAGC' (Illumina TruSeq, Sanger iPCR; user defined)\n",
      "Maximum trimming error rate: 0.05\n",
      "Minimum required adapter overlap (stringency): 1 bp\n",
      "Minimum required sequence length for both reads before a sequence pair gets removed: 10 bp\n",
      "Running FastQC on the data once trimming has completed\n",
      "Output file(s) will be GZIP compressed\n",
      "\n",
      "Cutadapt seems to be fairly up-to-date (version 4.0). Setting -j 1\n",
      "Writing final adapter and quality trimmed output to SRR12802839_1_trimmed.fq.gz\n",
      "\n",
      "\n",
      "  >>> Now performing quality (cutoff '-q 30') and adapter trimming in a single pass for the adapter sequence: 'AGATCGGAAGAGC' from file SRR12802839_1.fastq.gz <<< \n",
      "10000000 sequences processed\n",
      "20000000 sequences processed\n",
      "30000000 sequences processed\n",
      "40000000 sequences processed\n",
      "50000000 sequences processed\n",
      "60000000 sequences processed\n",
      "70000000 sequences processed\n",
      "80000000 sequences processed\n",
      "90000000 sequences processed\n",
      "100000000 sequences processed\n",
      "This is cutadapt 4.0 with Python 3.8.10\n",
      "Command line parameters: -j 1 -e 0.05 -q 30 -O 1 -a AGATCGGAAGAGC SRR12802839_1.fastq.gz\n",
      "Processing single-end reads on 1 core ...\n",
      "Finished in 2612.21 s (25 µs/read; 2.42 M reads/minute).\n",
      "\n",
      "=== Summary ===\n",
      "\n",
      "Total reads processed:             105,354,827\n",
      "Reads with adapters:                51,308,039 (48.7%)\n",
      "Reads written (passing filters):   105,354,827 (100.0%)\n",
      "\n",
      "Total basepairs processed: 15,803,224,050 bp\n",
      "Quality-trimmed:             125,531,190 bp (0.8%)\n",
      "Total written (filtered):  15,199,151,531 bp (96.2%)\n",
      "\n",
      "=== Adapter 1 ===\n",
      "\n",
      "Sequence: AGATCGGAAGAGC; Type: regular 3'; Length: 13; Trimmed: 51308039 times\n",
      "\n",
      "Minimum overlap: 1\n",
      "No. of allowed errors:\n",
      "1-13 bp: 0\n",
      "\n",
      "Bases preceding removed adapters:\n",
      "  A: 29.1%\n",
      "  C: 28.7%\n",
      "  G: 24.4%\n",
      "  T: 17.7%\n",
      "  none/other: 0.0%\n",
      "\n",
      "Overview of removed sequences\n",
      "length\tcount\texpect\tmax.err\terror counts\n",
      "1\t23535549\t26338706.8\t0\t23535549\n",
      "2\t6608805\t6584676.7\t0\t6608805\n",
      "3\t2586004\t1646169.2\t0\t2586004\n",
      "4\t947578\t411542.3\t0\t947578\n",
      "5\t641305\t102885.6\t0\t641305\n",
      "6\t534198\t25721.4\t0\t534198\n",
      "7\t544036\t6430.3\t0\t544036\n",
      "8\t605731\t1607.6\t0\t605731\n",
      "9\t514831\t401.9\t0\t514831\n",
      "10\t524700\t100.5\t0\t524700\n",
      "11\t526594\t25.1\t0\t526594\n",
      "12\t541362\t6.3\t0\t541362\n",
      "13\t484023\t1.6\t0\t484023\n",
      "14\t510904\t1.6\t0\t510904\n",
      "15\t505748\t1.6\t0\t505748\n",
      "16\t495381\t1.6\t0\t495381\n",
      "17\t518675\t1.6\t0\t518675\n",
      "18\t482754\t1.6\t0\t482754\n",
      "19\t428553\t1.6\t0\t428553\n",
      "20\t461803\t1.6\t0\t461803\n",
      "21\t448877\t1.6\t0\t448877\n",
      "22\t440092\t1.6\t0\t440092\n",
      "23\t436627\t1.6\t0\t436627\n",
      "24\t417004\t1.6\t0\t417004\n",
      "25\t408508\t1.6\t0\t408508\n",
      "26\t385863\t1.6\t0\t385863\n",
      "27\t395891\t1.6\t0\t395891\n",
      "28\t373907\t1.6\t0\t373907\n",
      "29\t351465\t1.6\t0\t351465\n",
      "30\t341903\t1.6\t0\t341903\n",
      "31\t315284\t1.6\t0\t315284\n",
      "32\t322275\t1.6\t0\t322275\n",
      "33\t305035\t1.6\t0\t305035\n",
      "34\t309048\t1.6\t0\t309048\n",
      "35\t275197\t1.6\t0\t275197\n",
      "36\t250614\t1.6\t0\t250614\n",
      "37\t255669\t1.6\t0\t255669\n",
      "38\t234863\t1.6\t0\t234863\n",
      "39\t220529\t1.6\t0\t220529\n",
      "40\t225602\t1.6\t0\t225602\n",
      "41\t197225\t1.6\t0\t197225\n",
      "42\t250683\t1.6\t0\t250683\n",
      "43\t193933\t1.6\t0\t193933\n",
      "44\t138403\t1.6\t0\t138403\n",
      "45\t291610\t1.6\t0\t291610\n",
      "46\t13887\t1.6\t0\t13887\n",
      "47\t109364\t1.6\t0\t109364\n",
      "48\t137840\t1.6\t0\t137840\n",
      "49\t109825\t1.6\t0\t109825\n",
      "50\t88761\t1.6\t0\t88761\n",
      "51\t106917\t1.6\t0\t106917\n",
      "52\t92658\t1.6\t0\t92658\n",
      "53\t73739\t1.6\t0\t73739\n",
      "54\t75269\t1.6\t0\t75269\n",
      "55\t85540\t1.6\t0\t85540\n",
      "56\t57589\t1.6\t0\t57589\n",
      "57\t74064\t1.6\t0\t74064\n",
      "58\t64043\t1.6\t0\t64043\n",
      "59\t47699\t1.6\t0\t47699\n",
      "60\t37446\t1.6\t0\t37446\n",
      "61\t22707\t1.6\t0\t22707\n",
      "62\t45824\t1.6\t0\t45824\n",
      "63\t36499\t1.6\t0\t36499\n",
      "64\t25285\t1.6\t0\t25285\n",
      "65\t16270\t1.6\t0\t16270\n",
      "66\t35378\t1.6\t0\t35378\n",
      "67\t20515\t1.6\t0\t20515\n",
      "68\t24837\t1.6\t0\t24837\n",
      "69\t6971\t1.6\t0\t6971\n",
      "70\t4342\t1.6\t0\t4342\n",
      "71\t114\t1.6\t0\t114\n",
      "72\t565\t1.6\t0\t565\n",
      "73\t3707\t1.6\t0\t3707\n",
      "74\t6442\t1.6\t0\t6442\n",
      "75\t7492\t1.6\t0\t7492\n",
      "76\t7308\t1.6\t0\t7308\n",
      "77\t7008\t1.6\t0\t7008\n",
      "78\t6323\t1.6\t0\t6323\n",
      "79\t5571\t1.6\t0\t5571\n",
      "80\t4992\t1.6\t0\t4992\n",
      "81\t4438\t1.6\t0\t4438\n",
      "82\t4147\t1.6\t0\t4147\n",
      "83\t3665\t1.6\t0\t3665\n",
      "84\t3456\t1.6\t0\t3456\n",
      "85\t3116\t1.6\t0\t3116\n",
      "86\t2624\t1.6\t0\t2624\n",
      "87\t2501\t1.6\t0\t2501\n",
      "88\t2305\t1.6\t0\t2305\n",
      "89\t2105\t1.6\t0\t2105\n",
      "90\t1926\t1.6\t0\t1926\n",
      "91\t1549\t1.6\t0\t1549\n",
      "92\t1451\t1.6\t0\t1451\n",
      "93\t1336\t1.6\t0\t1336\n",
      "94\t1253\t1.6\t0\t1253\n",
      "95\t1093\t1.6\t0\t1093\n",
      "96\t1024\t1.6\t0\t1024\n",
      "97\t945\t1.6\t0\t945\n",
      "98\t848\t1.6\t0\t848\n",
      "99\t733\t1.6\t0\t733\n",
      "100\t696\t1.6\t0\t696\n",
      "101\t598\t1.6\t0\t598\n",
      "102\t595\t1.6\t0\t595\n",
      "103\t514\t1.6\t0\t514\n",
      "104\t479\t1.6\t0\t479\n",
      "105\t466\t1.6\t0\t466\n",
      "106\t406\t1.6\t0\t406\n",
      "107\t385\t1.6\t0\t385\n",
      "108\t366\t1.6\t0\t366\n",
      "109\t340\t1.6\t0\t340\n",
      "110\t320\t1.6\t0\t320\n",
      "111\t281\t1.6\t0\t281\n",
      "112\t225\t1.6\t0\t225\n",
      "113\t238\t1.6\t0\t238\n",
      "114\t240\t1.6\t0\t240\n",
      "115\t201\t1.6\t0\t201\n",
      "116\t195\t1.6\t0\t195\n",
      "117\t181\t1.6\t0\t181\n",
      "118\t178\t1.6\t0\t178\n",
      "119\t167\t1.6\t0\t167\n",
      "120\t150\t1.6\t0\t150\n",
      "121\t157\t1.6\t0\t157\n",
      "122\t163\t1.6\t0\t163\n",
      "123\t133\t1.6\t0\t133\n",
      "124\t128\t1.6\t0\t128\n",
      "125\t131\t1.6\t0\t131\n",
      "126\t126\t1.6\t0\t126\n",
      "127\t165\t1.6\t0\t165\n",
      "128\t187\t1.6\t0\t187\n",
      "129\t227\t1.6\t0\t227\n",
      "130\t185\t1.6\t0\t185\n",
      "131\t251\t1.6\t0\t251\n",
      "132\t263\t1.6\t0\t263\n",
      "133\t287\t1.6\t0\t287\n",
      "134\t310\t1.6\t0\t310\n",
      "135\t384\t1.6\t0\t384\n",
      "136\t448\t1.6\t0\t448\n",
      "137\t467\t1.6\t0\t467\n",
      "138\t514\t1.6\t0\t514\n",
      "139\t467\t1.6\t0\t467\n",
      "140\t643\t1.6\t0\t643\n",
      "141\t1029\t1.6\t0\t1029\n",
      "142\t532\t1.6\t0\t532\n",
      "143\t763\t1.6\t0\t763\n",
      "144\t891\t1.6\t0\t891\n",
      "145\t932\t1.6\t0\t932\n",
      "146\t1266\t1.6\t0\t1266\n",
      "147\t1547\t1.6\t0\t1547\n",
      "148\t230\t1.6\t0\t230\n",
      "149\t13\t1.6\t0\t13\n",
      "150\t32\t1.6\t0\t32\n",
      "\n",
      "RUN STATISTICS FOR INPUT FILE: SRR12802839_1.fastq.gz\n",
      "=============================================\n",
      "105354827 sequences processed in total\n",
      "The length threshold of paired-end sequences gets evaluated later on (in the validation step)\n",
      "\n",
      "Writing report to 'SRR12802839_2.fastq.gz_trimming_report.txt'\n",
      "\n",
      "SUMMARISING RUN PARAMETERS\n",
      "==========================\n",
      "Input filename: SRR12802839_2.fastq.gz\n",
      "Trimming mode: paired-end\n",
      "Trim Galore version: 0.6.7\n",
      "Cutadapt version: 4.0\n",
      "Number of cores used for trimming: 1\n",
      "Quality Phred score cutoff: 30\n",
      "Quality encoding type selected: ASCII+33\n",
      "Adapter sequence: 'AGATCGGAAGAGC' (Illumina TruSeq, Sanger iPCR; user defined)\n",
      "Maximum trimming error rate: 0.05\n",
      "Minimum required adapter overlap (stringency): 1 bp\n",
      "Minimum required sequence length for both reads before a sequence pair gets removed: 10 bp\n",
      "Running FastQC on the data once trimming has completed\n",
      "Output file(s) will be GZIP compressed\n",
      "\n",
      "Cutadapt seems to be fairly up-to-date (version 4.0). Setting -j -j 1\n",
      "Writing final adapter and quality trimmed output to SRR12802839_2_trimmed.fq.gz\n",
      "\n",
      "\n",
      "  >>> Now performing quality (cutoff '-q 30') and adapter trimming in a single pass for the adapter sequence: 'AGATCGGAAGAGC' from file SRR12802839_2.fastq.gz <<< \n",
      "10000000 sequences processed\n",
      "20000000 sequences processed\n",
      "30000000 sequences processed\n",
      "40000000 sequences processed\n",
      "50000000 sequences processed\n",
      "60000000 sequences processed\n",
      "70000000 sequences processed\n",
      "80000000 sequences processed\n",
      "90000000 sequences processed\n",
      "100000000 sequences processed\n",
      "This is cutadapt 4.0 with Python 3.8.10\n",
      "Command line parameters: -j 1 -e 0.05 -q 30 -O 1 -a AGATCGGAAGAGC SRR12802839_2.fastq.gz\n",
      "Processing single-end reads on 1 core ...\n",
      "Finished in 2576.32 s (24 µs/read; 2.45 M reads/minute).\n",
      "\n",
      "=== Summary ===\n",
      "\n",
      "Total reads processed:             105,354,827\n",
      "Reads with adapters:                48,318,554 (45.9%)\n",
      "Reads written (passing filters):   105,354,827 (100.0%)\n",
      "\n",
      "Total basepairs processed: 15,803,224,050 bp\n",
      "Quality-trimmed:             228,850,807 bp (1.4%)\n",
      "Total written (filtered):  15,148,261,279 bp (95.9%)\n",
      "\n",
      "=== Adapter 1 ===\n",
      "\n",
      "Sequence: AGATCGGAAGAGC; Type: regular 3'; Length: 13; Trimmed: 48318554 times\n",
      "\n",
      "Minimum overlap: 1\n",
      "No. of allowed errors:\n",
      "1-13 bp: 0\n",
      "\n",
      "Bases preceding removed adapters:\n",
      "  A: 25.3%\n",
      "  C: 30.4%\n",
      "  G: 28.4%\n",
      "  T: 15.9%\n",
      "  none/other: 0.0%\n",
      "\n",
      "Overview of removed sequences\n",
      "length\tcount\texpect\tmax.err\terror counts\n",
      "1\t20957786\t26338706.8\t0\t20957786\n",
      "2\t6556644\t6584676.7\t0\t6556644\n",
      "3\t2452035\t1646169.2\t0\t2452035\n",
      "4\t951203\t411542.3\t0\t951203\n",
      "5\t643284\t102885.6\t0\t643284\n",
      "6\t529643\t25721.4\t0\t529643\n",
      "7\t582406\t6430.3\t0\t582406\n",
      "8\t653801\t1607.6\t0\t653801\n",
      "9\t436155\t401.9\t0\t436155\n",
      "10\t545653\t100.5\t0\t545653\n",
      "11\t501519\t25.1\t0\t501519\n",
      "12\t536424\t6.3\t0\t536424\n",
      "13\t492716\t1.6\t0\t492716\n",
      "14\t593782\t1.6\t0\t593782\n",
      "15\t465400\t1.6\t0\t465400\n",
      "16\t499560\t1.6\t0\t499560\n",
      "17\t818870\t1.6\t0\t818870\n",
      "18\t352479\t1.6\t0\t352479\n",
      "19\t1000521\t1.6\t0\t1000521\n",
      "20\t345898\t1.6\t0\t345898\n",
      "21\t433912\t1.6\t0\t433912\n",
      "22\t400015\t1.6\t0\t400015\n",
      "23\t436094\t1.6\t0\t436094\n",
      "24\t1988936\t1.6\t0\t1988936\n",
      "25\t380700\t1.6\t0\t380700\n",
      "26\t281208\t1.6\t0\t281208\n",
      "27\t176756\t1.6\t0\t176756\n",
      "28\t580947\t1.6\t0\t580947\n",
      "29\t68743\t1.6\t0\t68743\n",
      "30\t473633\t1.6\t0\t473633\n",
      "31\t81430\t1.6\t0\t81430\n",
      "32\t620516\t1.6\t0\t620516\n",
      "33\t117589\t1.6\t0\t117589\n",
      "34\t41853\t1.6\t0\t41853\n",
      "35\t236943\t1.6\t0\t236943\n",
      "36\t30930\t1.6\t0\t30930\n",
      "37\t66452\t1.6\t0\t66452\n",
      "38\t39016\t1.6\t0\t39016\n",
      "39\t58426\t1.6\t0\t58426\n",
      "40\t30824\t1.6\t0\t30824\n",
      "41\t177711\t1.6\t0\t177711\n",
      "42\t226869\t1.6\t0\t226869\n",
      "43\t64173\t1.6\t0\t64173\n",
      "44\t156272\t1.6\t0\t156272\n",
      "45\t230920\t1.6\t0\t230920\n",
      "46\t77529\t1.6\t0\t77529\n",
      "47\t56818\t1.6\t0\t56818\n",
      "48\t174446\t1.6\t0\t174446\n",
      "49\t75689\t1.6\t0\t75689\n",
      "50\t22959\t1.6\t0\t22959\n",
      "51\t116987\t1.6\t0\t116987\n",
      "52\t88766\t1.6\t0\t88766\n",
      "53\t28647\t1.6\t0\t28647\n",
      "54\t40695\t1.6\t0\t40695\n",
      "55\t27447\t1.6\t0\t27447\n",
      "56\t9000\t1.6\t0\t9000\n",
      "57\t15560\t1.6\t0\t15560\n",
      "58\t18066\t1.6\t0\t18066\n",
      "59\t6823\t1.6\t0\t6823\n",
      "60\t4601\t1.6\t0\t4601\n",
      "61\t4758\t1.6\t0\t4758\n",
      "62\t4576\t1.6\t0\t4576\n",
      "63\t5429\t1.6\t0\t5429\n",
      "64\t8016\t1.6\t0\t8016\n",
      "65\t11710\t1.6\t0\t11710\n",
      "66\t15155\t1.6\t0\t15155\n",
      "67\t15461\t1.6\t0\t15461\n",
      "68\t14508\t1.6\t0\t14508\n",
      "69\t13481\t1.6\t0\t13481\n",
      "70\t12339\t1.6\t0\t12339\n",
      "71\t11302\t1.6\t0\t11302\n",
      "72\t10204\t1.6\t0\t10204\n",
      "73\t9132\t1.6\t0\t9132\n",
      "74\t8360\t1.6\t0\t8360\n",
      "75\t7622\t1.6\t0\t7622\n",
      "76\t6763\t1.6\t0\t6763\n",
      "77\t6381\t1.6\t0\t6381\n",
      "78\t5921\t1.6\t0\t5921\n",
      "79\t4974\t1.6\t0\t4974\n",
      "80\t4547\t1.6\t0\t4547\n",
      "81\t4052\t1.6\t0\t4052\n",
      "82\t3596\t1.6\t0\t3596\n",
      "83\t3264\t1.6\t0\t3264\n",
      "84\t3122\t1.6\t0\t3122\n",
      "85\t2794\t1.6\t0\t2794\n",
      "86\t2510\t1.6\t0\t2510\n",
      "87\t2423\t1.6\t0\t2423\n",
      "88\t2219\t1.6\t0\t2219\n",
      "89\t1916\t1.6\t0\t1916\n",
      "90\t1725\t1.6\t0\t1725\n",
      "91\t1369\t1.6\t0\t1369\n",
      "92\t1280\t1.6\t0\t1280\n",
      "93\t1219\t1.6\t0\t1219\n",
      "94\t1179\t1.6\t0\t1179\n",
      "95\t1029\t1.6\t0\t1029\n",
      "96\t965\t1.6\t0\t965\n",
      "97\t886\t1.6\t0\t886\n",
      "98\t830\t1.6\t0\t830\n",
      "99\t716\t1.6\t0\t716\n",
      "100\t671\t1.6\t0\t671\n",
      "101\t630\t1.6\t0\t630\n",
      "102\t612\t1.6\t0\t612\n",
      "103\t530\t1.6\t0\t530\n",
      "104\t506\t1.6\t0\t506\n",
      "105\t451\t1.6\t0\t451\n",
      "106\t422\t1.6\t0\t422\n",
      "107\t425\t1.6\t0\t425\n",
      "108\t385\t1.6\t0\t385\n",
      "109\t345\t1.6\t0\t345\n",
      "110\t322\t1.6\t0\t322\n",
      "111\t292\t1.6\t0\t292\n",
      "112\t249\t1.6\t0\t249\n",
      "113\t233\t1.6\t0\t233\n",
      "114\t256\t1.6\t0\t256\n",
      "115\t222\t1.6\t0\t222\n",
      "116\t219\t1.6\t0\t219\n",
      "117\t185\t1.6\t0\t185\n",
      "118\t180\t1.6\t0\t180\n",
      "119\t159\t1.6\t0\t159\n",
      "120\t153\t1.6\t0\t153\n",
      "121\t159\t1.6\t0\t159\n",
      "122\t160\t1.6\t0\t160\n",
      "123\t137\t1.6\t0\t137\n",
      "124\t142\t1.6\t0\t142\n",
      "125\t140\t1.6\t0\t140\n",
      "126\t127\t1.6\t0\t127\n",
      "127\t163\t1.6\t0\t163\n",
      "128\t188\t1.6\t0\t188\n",
      "129\t230\t1.6\t0\t230\n",
      "130\t191\t1.6\t0\t191\n",
      "131\t238\t1.6\t0\t238\n",
      "132\t253\t1.6\t0\t253\n",
      "133\t295\t1.6\t0\t295\n",
      "134\t306\t1.6\t0\t306\n",
      "135\t376\t1.6\t0\t376\n",
      "136\t423\t1.6\t0\t423\n",
      "137\t472\t1.6\t0\t472\n",
      "138\t497\t1.6\t0\t497\n",
      "139\t459\t1.6\t0\t459\n",
      "140\t632\t1.6\t0\t632\n",
      "141\t1008\t1.6\t0\t1008\n",
      "142\t531\t1.6\t0\t531\n",
      "143\t754\t1.6\t0\t754\n",
      "144\t872\t1.6\t0\t872\n",
      "145\t914\t1.6\t0\t914\n",
      "146\t1234\t1.6\t0\t1234\n",
      "147\t1524\t1.6\t0\t1524\n",
      "148\t225\t1.6\t0\t225\n",
      "149\t9\t1.6\t0\t9\n",
      "150\t35\t1.6\t0\t35\n",
      "\n",
      "RUN STATISTICS FOR INPUT FILE: SRR12802839_2.fastq.gz\n",
      "=============================================\n",
      "105354827 sequences processed in total\n",
      "The length threshold of paired-end sequences gets evaluated later on (in the validation step)\n",
      "\n",
      "Validate paired-end files SRR12802839_1_trimmed.fq.gz and SRR12802839_2_trimmed.fq.gz\n",
      "file_1: SRR12802839_1_trimmed.fq.gz, file_2: SRR12802839_2_trimmed.fq.gz\n",
      "\n",
      "\n",
      ">>>>> Now validing the length of the 2 paired-end infiles: SRR12802839_1_trimmed.fq.gz and SRR12802839_2_trimmed.fq.gz <<<<<\n",
      "Writing validated paired-end Read 1 reads to SRR12802839_1_val_1.fq.gz\n",
      "Writing validated paired-end Read 2 reads to SRR12802839_2_val_2.fq.gz\n",
      "\n",
      "Total number of sequences analysed: 105354827\n",
      "\n",
      "Number of sequence pairs removed because at least one read was shorter than the length cutoff (10 bp): 290733 (0.28%)\n",
      "\n",
      "\n",
      "  >>> Now running FastQC on the validated data SRR12802839_1_val_1.fq.gz<<<\n",
      "\n",
      "Started analysis of SRR12802839_1_val_1.fq.gz\n",
      "Approx 5% complete for SRR12802839_1_val_1.fq.gz\n",
      "Approx 10% complete for SRR12802839_1_val_1.fq.gz\n",
      "Approx 15% complete for SRR12802839_1_val_1.fq.gz\n",
      "Approx 20% complete for SRR12802839_1_val_1.fq.gz\n",
      "Approx 25% complete for SRR12802839_1_val_1.fq.gz\n",
      "Approx 30% complete for SRR12802839_1_val_1.fq.gz\n",
      "Approx 35% complete for SRR12802839_1_val_1.fq.gz\n",
      "Approx 40% complete for SRR12802839_1_val_1.fq.gz\n",
      "Approx 45% complete for SRR12802839_1_val_1.fq.gz\n",
      "Approx 50% complete for SRR12802839_1_val_1.fq.gz\n",
      "Approx 55% complete for SRR12802839_1_val_1.fq.gz\n",
      "Approx 60% complete for SRR12802839_1_val_1.fq.gz\n",
      "Approx 65% complete for SRR12802839_1_val_1.fq.gz\n",
      "Approx 70% complete for SRR12802839_1_val_1.fq.gz\n",
      "Approx 75% complete for SRR12802839_1_val_1.fq.gz\n",
      "Approx 80% complete for SRR12802839_1_val_1.fq.gz\n",
      "Approx 85% complete for SRR12802839_1_val_1.fq.gz\n",
      "Approx 90% complete for SRR12802839_1_val_1.fq.gz\n",
      "Approx 95% complete for SRR12802839_1_val_1.fq.gz\n",
      "Analysis complete for SRR12802839_1_val_1.fq.gz\n",
      "\n",
      "  >>> Now running FastQC on the validated data SRR12802839_2_val_2.fq.gz<<<\n",
      "\n",
      "Started analysis of SRR12802839_2_val_2.fq.gz\n",
      "Approx 5% complete for SRR12802839_2_val_2.fq.gz\n",
      "Approx 10% complete for SRR12802839_2_val_2.fq.gz\n",
      "Approx 15% complete for SRR12802839_2_val_2.fq.gz\n",
      "Approx 20% complete for SRR12802839_2_val_2.fq.gz\n",
      "Approx 25% complete for SRR12802839_2_val_2.fq.gz\n",
      "Approx 30% complete for SRR12802839_2_val_2.fq.gz\n",
      "Approx 35% complete for SRR12802839_2_val_2.fq.gz\n",
      "Approx 40% complete for SRR12802839_2_val_2.fq.gz\n",
      "Approx 45% complete for SRR12802839_2_val_2.fq.gz\n",
      "Approx 50% complete for SRR12802839_2_val_2.fq.gz\n",
      "Approx 55% complete for SRR12802839_2_val_2.fq.gz\n",
      "Approx 60% complete for SRR12802839_2_val_2.fq.gz\n",
      "Approx 65% complete for SRR12802839_2_val_2.fq.gz\n",
      "Approx 70% complete for SRR12802839_2_val_2.fq.gz\n",
      "Approx 75% complete for SRR12802839_2_val_2.fq.gz\n",
      "Approx 80% complete for SRR12802839_2_val_2.fq.gz\n",
      "Approx 85% complete for SRR12802839_2_val_2.fq.gz\n",
      "Approx 90% complete for SRR12802839_2_val_2.fq.gz\n",
      "Approx 95% complete for SRR12802839_2_val_2.fq.gz\n",
      "Analysis complete for SRR12802839_2_val_2.fq.gz\n",
      "Deleting both intermediate output files SRR12802839_1_trimmed.fq.gz and SRR12802839_2_trimmed.fq.gz\n",
      "\n",
      "====================================================================================================\n",
      "\n"
     ]
    }
   ],
   "source": [
    "!trim_galore --phred33 -q 30 -e 0.05 --illumina --fastqc --paired --length 10 SRR12802839_1.fastq.gz SRR12802839_2.fastq.gz"
   ]
  },
  {
   "cell_type": "markdown",
   "metadata": {
    "pycharm": {
     "name": "#%% md\n"
    }
   },
   "source": [
    "## Align POINT-seq reads - STAR"
   ]
  },
  {
   "cell_type": "markdown",
   "metadata": {
    "pycharm": {
     "name": "#%% md\n"
    }
   },
   "source": [
    "### Create STAR index"
   ]
  },
  {
   "cell_type": "code",
   "execution_count": 8,
   "metadata": {
    "collapsed": false,
    "execution": {
     "iopub.execute_input": "2022-05-24T07:20:03.413485Z",
     "iopub.status.busy": "2022-05-24T07:20:03.412658Z",
     "iopub.status.idle": "2022-05-24T08:19:05.268976Z",
     "shell.execute_reply": "2022-05-24T08:19:05.266966Z",
     "shell.execute_reply.started": "2022-05-24T07:20:03.413398Z"
    },
    "jupyter": {
     "outputs_hidden": false
    },
    "pycharm": {
     "name": "#%%\n"
    }
   },
   "outputs": [
    {
     "name": "stdout",
     "output_type": "stream",
     "text": [
      "\tSTAR --runMode genomeGenerate --genomeDir ./hg38_STAR_INDEX --genomeFastaFiles Homo_sapiens.GRCh38.dna.primary_assembly.fa --sjdbGTFfile Homo_sapiens.GRCh38.90.gtf --sjdbOverhang 149 --limitGenomeGenerateRAM 50000000000 --runThreadN 10\n",
      "\tSTAR version: 2.7.10a   compiled: 2022-01-14T18:50:00-05:00 :/home/dobin/data/STAR/STARcode/STAR.master/source\n",
      "May 24 08:20:03 ..... started STAR run\n",
      "May 24 08:20:03 ... starting to generate Genome files\n",
      "May 24 08:21:21 ..... processing annotations GTF\n",
      "May 24 08:22:06 ... starting to sort Suffix Array. This may take a long time...\n",
      "May 24 08:22:25 ... sorting Suffix Array chunks and saving them to disk...\n",
      "May 24 08:53:21 ... loading chunks from disk, packing SA...\n",
      "May 24 09:01:43 ... finished generating suffix array\n",
      "May 24 09:01:43 ... generating Suffix Array index\n",
      "May 24 09:07:54 ... completed Suffix Array index\n",
      "May 24 09:07:55 ..... inserting junctions into the genome indices\n",
      "May 24 09:14:42 ... writing Genome to disk ...\n",
      "May 24 09:15:15 ... writing Suffix Array to disk ...\n",
      "May 24 09:18:50 ... writing SAindex to disk\n",
      "May 24 09:19:04 ..... finished successfully\n"
     ]
    }
   ],
   "source": [
    "!STAR --runMode genomeGenerate --genomeDir ./hg38_STAR_INDEX --genomeFastaFiles Homo_sapiens.GRCh38.dna.primary_assembly.fa --sjdbGTFfile Homo_sapiens.GRCh38.90.gtf --sjdbOverhang  149 --limitGenomeGenerateRAM 50000000000 --runThreadN 10"
   ]
  },
  {
   "cell_type": "markdown",
   "metadata": {
    "pycharm": {
     "name": "#%% md\n"
    }
   },
   "source": [
    "### Align the reads"
   ]
  },
  {
   "cell_type": "code",
   "execution_count": 9,
   "metadata": {
    "collapsed": false,
    "execution": {
     "iopub.execute_input": "2022-05-24T08:19:05.272224Z",
     "iopub.status.busy": "2022-05-24T08:19:05.271926Z",
     "iopub.status.idle": "2022-05-24T08:48:02.708918Z",
     "shell.execute_reply": "2022-05-24T08:48:02.704582Z",
     "shell.execute_reply.started": "2022-05-24T08:19:05.272188Z"
    },
    "jupyter": {
     "outputs_hidden": false
    },
    "pycharm": {
     "name": "#%%\n"
    },
    "tags": []
   },
   "outputs": [
    {
     "name": "stdout",
     "output_type": "stream",
     "text": [
      "\tSTAR --genomeDir ./hg38_STAR_INDEX --outSAMtype BAM SortedByCoordinate --outFilterScoreMin 10 --readFilesCommand zcat --readFilesIn SRR12802839_1_val_1.fq.gz SRR12802839_2_val_2.fq.gz --outFileNamePrefix SRR12802839 --outFilterMultimapNmax 1 --limitBAMsortRAM 50000000000 --runThreadN 20\n",
      "\tSTAR version: 2.7.10a   compiled: 2022-01-14T18:50:00-05:00 :/home/dobin/data/STAR/STARcode/STAR.master/source\n",
      "May 24 09:19:05 ..... started STAR run\n",
      "May 24 09:19:05 ..... loading genome\n",
      "May 24 09:27:41 ..... started mapping\n",
      "May 24 09:41:24 ..... finished mapping\n",
      "May 24 09:41:28 ..... started sorting BAM\n",
      "May 24 09:47:56 ..... finished successfully\n"
     ]
    }
   ],
   "source": [
    "!STAR --genomeDir ./hg38_STAR_INDEX --outSAMtype BAM SortedByCoordinate --outFilterScoreMin 10 --readFilesCommand zcat  --readFilesIn SRR12802839_1_val_1.fq.gz SRR12802839_2_val_2.fq.gz --outFileNamePrefix SRR12802839 --outFilterMultimapNmax 1 --limitBAMsortRAM 50000000000 --runThreadN 20"
   ]
  },
  {
   "cell_type": "markdown",
   "metadata": {
    "pycharm": {
     "name": "#%% md\n"
    }
   },
   "source": [
    "## Filtering reads from the alignment file and split by biological strand"
   ]
  },
  {
   "cell_type": "code",
   "execution_count": 10,
   "metadata": {
    "collapsed": false,
    "execution": {
     "iopub.execute_input": "2022-05-24T08:48:02.720533Z",
     "iopub.status.busy": "2022-05-24T08:48:02.719381Z",
     "iopub.status.idle": "2022-05-24T09:01:51.667930Z",
     "shell.execute_reply": "2022-05-24T09:01:51.665474Z",
     "shell.execute_reply.started": "2022-05-24T08:48:02.720464Z"
    },
    "jupyter": {
     "outputs_hidden": false
    },
    "pycharm": {
     "name": "#%%\n"
    }
   },
   "outputs": [],
   "source": [
    "!samtools view -@20 -f 0x53 -o 0x53_Pseq_aligned.bam SRR12802839Aligned.sortedByCoord.out.bam\n",
    "!samtools view -@20 -f 0xA3 -o 0xA3_Pseq_aligned.bam SRR12802839Aligned.sortedByCoord.out.bam\n",
    "!samtools view -@20 -f 0x63 -o 0x63_Pseq_aligned.bam SRR12802839Aligned.sortedByCoord.out.bam\n",
    "!samtools view -@20 -f 0x93 -o 0x93_Pseq_aligned.bam SRR12802839Aligned.sortedByCoord.out.bam\n",
    "!samtools merge F_SRR12802839.bam 0x53_Pseq_aligned.bam 0xA3_Pseq_aligned.bam\n",
    "!samtools merge R_SRR12802839.bam 0x63_Pseq_aligned.bam 0x93_Pseq_aligned.bam"
   ]
  },
  {
   "cell_type": "markdown",
   "metadata": {
    "pycharm": {
     "name": "#%% md\n"
    }
   },
   "source": [
    "## Resume the genome-wide nascent signal"
   ]
  },
  {
   "cell_type": "code",
   "execution_count": 11,
   "metadata": {
    "collapsed": false,
    "execution": {
     "iopub.execute_input": "2022-05-24T09:01:51.671388Z",
     "iopub.status.busy": "2022-05-24T09:01:51.671047Z",
     "iopub.status.idle": "2022-05-24T09:16:39.890261Z",
     "shell.execute_reply": "2022-05-24T09:16:39.887873Z",
     "shell.execute_reply.started": "2022-05-24T09:01:51.671354Z"
    },
    "jupyter": {
     "outputs_hidden": false
    },
    "pycharm": {
     "name": "#%%\n"
    }
   },
   "outputs": [],
   "source": [
    "!bedtools genomecov -bga -split -ibam F_SRR12802839.bam | bedtools sort > F_SRR12802839.bg\n",
    "!bedtools genomecov -bga -split -ibam R_SRR12802839.bam | bedtools sort > R_SRR12802839.bg"
   ]
  },
  {
   "cell_type": "code",
   "execution_count": 12,
   "metadata": {
    "collapsed": false,
    "execution": {
     "iopub.execute_input": "2022-05-24T09:16:39.898835Z",
     "iopub.status.busy": "2022-05-24T09:16:39.898507Z",
     "iopub.status.idle": "2022-05-24T09:20:49.482292Z",
     "shell.execute_reply": "2022-05-24T09:20:49.480456Z",
     "shell.execute_reply.started": "2022-05-24T09:16:39.898802Z"
    },
    "jupyter": {
     "outputs_hidden": false
    },
    "pycharm": {
     "name": "#%%\n"
    }
   },
   "outputs": [],
   "source": [
    "!samtools faidx Homo_sapiens.GRCh38.dna.primary_assembly.fa\n",
    "!bedGraphToBigWig F_SRR12802839.bg Homo_sapiens.GRCh38.dna.primary_assembly.fa.fai F_SRR12802839.bw\n",
    "!bedGraphToBigWig R_SRR12802839.bg Homo_sapiens.GRCh38.dna.primary_assembly.fa.fai R_SRR12802839.bw"
   ]
  },
  {
   "cell_type": "code",
   "execution_count": 13,
   "metadata": {
    "execution": {
     "iopub.execute_input": "2022-05-24T09:20:49.485614Z",
     "iopub.status.busy": "2022-05-24T09:20:49.485299Z",
     "iopub.status.idle": "2022-05-24T09:36:10.246567Z",
     "shell.execute_reply": "2022-05-24T09:36:10.243993Z",
     "shell.execute_reply.started": "2022-05-24T09:20:49.485582Z"
    },
    "tags": []
   },
   "outputs": [],
   "source": [
    "!bedtools genomecov -bga -split -ibam F_SRR12802839.bam | bedtools sort > F_SRR12802839.bg\n",
    "!bedtools genomecov -bga -split -ibam R_SRR12802839.bam | bedtools sort > R_SRR12802839.bg"
   ]
  },
  {
   "cell_type": "code",
   "execution_count": 14,
   "metadata": {
    "execution": {
     "iopub.execute_input": "2022-05-24T09:36:10.250195Z",
     "iopub.status.busy": "2022-05-24T09:36:10.249642Z",
     "iopub.status.idle": "2022-05-24T09:40:35.183787Z",
     "shell.execute_reply": "2022-05-24T09:40:35.181778Z",
     "shell.execute_reply.started": "2022-05-24T09:36:10.250133Z"
    },
    "tags": []
   },
   "outputs": [],
   "source": [
    "!samtools faidx Homo_sapiens.GRCh38.dna.primary_assembly.fa\n",
    "!bedGraphToBigWig F_SRR12802839.bg Homo_sapiens.GRCh38.dna.primary_assembly.fa.fai F_SRR12802839.bw\n",
    "!bedGraphToBigWig R_SRR12802839.bg Homo_sapiens.GRCh38.dna.primary_assembly.fa.fai R_SRR12802839.bw"
   ]
  }
 ],
 "metadata": {
  "kernelspec": {
   "display_name": "Python 3 (ipykernel)",
   "language": "python",
   "name": "python3"
  },
  "language_info": {
   "codemirror_mode": {
    "name": "ipython",
    "version": 3
   },
   "file_extension": ".py",
   "mimetype": "text/x-python",
   "name": "python",
   "nbconvert_exporter": "python",
   "pygments_lexer": "ipython3",
   "version": "3.8.10"
  },
  "widgets": {
   "application/vnd.jupyter.widget-state+json": {
    "state": {},
    "version_major": 2,
    "version_minor": 0
   }
  }
 },
 "nbformat": 4,
 "nbformat_minor": 4
}
