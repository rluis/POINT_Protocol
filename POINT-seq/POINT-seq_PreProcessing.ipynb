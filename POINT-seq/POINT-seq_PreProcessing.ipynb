{
 "cells": [
  {
   "cell_type": "markdown",
   "metadata": {
    "collapsed": true,
    "pycharm": {
     "name": "#%% md\n"
    }
   },
   "source": [
    "# Pre-Processing of POINT-seq data"
   ]
  },
  {
   "cell_type": "markdown",
   "source": [
    "## Loading Packages"
   ],
   "metadata": {
    "collapsed": false
   }
  },
  {
   "cell_type": "code",
   "execution_count": 1,
   "outputs": [],
   "source": [
    "import subprocess"
   ],
   "metadata": {
    "collapsed": false,
    "pycharm": {
     "name": "#%%\n"
    }
   }
  },
  {
   "cell_type": "markdown",
   "source": [
    "## Download of POINT-seq example data\n",
    "\n",
    "To demonstrate step-by-step the pre-processing of POINT-seq reads, a publicly available POINT-seq sample from [Sousa-Luís et al. Mol Cel. 2021](https://doi.org/10.1016/j.molcel.2021.02.034) will be used ([SRR12802839](https://www.ncbi.nlm.nih.gov/sra?term=SRX9271663)). This sample profiles a POINT-seq on untreated HeLa cells."
   ],
   "metadata": {
    "collapsed": false
   }
  },
  {
   "cell_type": "code",
   "execution_count": null,
   "outputs": [
    {
     "name": "stderr",
     "output_type": "stream",
     "text": [
      "2022-04-08T21:51:18 fasterq-dump.2.9.6 err: storage exhausted while writing file within file system module - system bad file descriptor error fd='19'\n",
      "1900-01-00T00:00:00 fasterq-dump.2.9.6 err: storage exhausted while writing file within file system module - system bad file descriptor error fd='15'\n",
      "2022-04-08T21:51:18 fasterq-dump.2.9.6 err: join_results_print().KFileWriteAll( at 2920284158 ) -> RC(rcFS,rcFile,rcWriting,rcStorage,rcExhausted)\n",
      "2022-04-08T21:51:18 fasterq-dump.2.9.6 err: join_results_print().KFileWriteAll( at 2941255376 ) -> RC(rcFS,rcFile,rcWriting,rcStorage,rcExhausted)\n",
      "2022-04-08T21:51:18 fasterq-dump.2.9.6 err: storage exhausted while writing file within file system module - system bad file descriptor error fd='12'\n",
      "2022-04-08T21:51:18 fasterq-dump.2.9.6 err: storage exhausted while writing file within file system module - system bad file descriptor error fd='16'\n",
      "2022-04-08T21:51:18 fasterq-dump.2.9.6 err: join_results_print().KFileWriteAll( at 2852126594 ) -> RC(rcFS,rcFile,rcWriting,rcStorage,rcExhausted)\n",
      "2022-04-08T21:51:18 fasterq-dump.2.9.6 err: join_results_print().KFileWriteAll( at 3016752892 ) -> RC(rcFS,rcFile,rcWriting,rcStorage,rcExhausted)\n",
      "2022-04-08T21:51:18 fasterq-dump.2.9.6 err: storage exhausted while writing file within file system module - system bad file descriptor error fd='16'\n",
      "2022-04-08T21:51:18 fasterq-dump.2.9.6 err: storage exhausted while writing file within file system module - system bad file descriptor error fd='15'\n",
      "2022-04-08T21:51:18 fasterq-dump.2.9.6 err: storage exhausted while writing file within file system module - system bad file descriptor error fd='19'\n",
      "2022-04-08T21:51:19 fasterq-dump.2.9.6 err: storage exhausted while writing file within file system module - system bad file descriptor error fd='17'\n",
      "2022-04-08T21:51:19 fasterq-dump.2.9.6 err: storage exhausted while writing file within file system module - system bad file descriptor error fd='12'\n",
      "2022-04-08T21:51:19 fasterq-dump.2.9.6 err: storage exhausted while writing file within file system module - system bad file descriptor error fd='13'\n"
     ]
    }
   ],
   "source": [
    "sraString = \"SRR12802839\"\n",
    "threads = 4\n",
    "subprocess.run(\"fasterq-dump {} --threads {} --split-files\".format(sraString, threads),\n",
    "               shell=True, check=True)"
   ],
   "metadata": {
    "collapsed": false,
    "pycharm": {
     "name": "#%%\n",
     "is_executing": true
    }
   }
  },
  {
   "cell_type": "markdown",
   "source": [
    "## Quality control - FastQC"
   ],
   "metadata": {
    "collapsed": false,
    "pycharm": {
     "name": "#%% md\n"
    }
   }
  },
  {
   "cell_type": "markdown",
   "source": [
    "## Trimming reads' adaptors"
   ],
   "metadata": {
    "collapsed": false,
    "pycharm": {
     "name": "#%% md\n"
    }
   }
  },
  {
   "cell_type": "markdown",
   "source": [
    "## Mapping the reads - STAR"
   ],
   "metadata": {
    "collapsed": false,
    "pycharm": {
     "name": "#%% md\n"
    }
   }
  },
  {
   "cell_type": "markdown",
   "source": [
    "### Create Index"
   ],
   "metadata": {
    "collapsed": false,
    "pycharm": {
     "name": "#%% md\n"
    }
   }
  },
  {
   "cell_type": "markdown",
   "source": [
    "### Mapping the reads"
   ],
   "metadata": {
    "collapsed": false,
    "pycharm": {
     "name": "#%% md\n"
    }
   }
  }
 ],
 "metadata": {
  "kernelspec": {
   "display_name": "Python 3",
   "language": "python",
   "name": "python3"
  },
  "language_info": {
   "codemirror_mode": {
    "name": "ipython",
    "version": 2
   },
   "file_extension": ".py",
   "mimetype": "text/x-python",
   "name": "python",
   "nbconvert_exporter": "python",
   "pygments_lexer": "ipython2",
   "version": "2.7.6"
  }
 },
 "nbformat": 4,
 "nbformat_minor": 0
}