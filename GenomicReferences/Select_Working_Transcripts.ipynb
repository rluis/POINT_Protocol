{
 "cells": [
  {
   "cell_type": "markdown",
   "metadata": {
    "pycharm": {
     "name": "#%% md\n"
    }
   },
   "source": [
    "# Select the Transcripts to Work With (HeLa)\n",
    "\n",
    "To perform analyses after POINT data pre-processing is necessary to define the active expressed genes. To avoid misinterpretations of the data, here will be selected only 1 transcript per gene, avoiding cases where genes overlap in the same locus, independent of the strand. Commonly, antisense transcription is observed, that confuses the analyses on genes that overlap on opposite strands as well.\n",
    "\n",
    "Thus, transcripts expressed in HeLa cells will be selected, based on their abundances (read counts).\n",
    "Initially, transcripts are filter out in case they have a TPM lower than 4. Next, from the expressed ones, the longest transcript per gene is chosen, discarding all the others.\n",
    "With these transcripts all analyses will be performed. Respective introns and exons are extracted from these transcripts only."
   ]
  },
  {
   "cell_type": "markdown",
   "metadata": {
    "pycharm": {
     "name": "#%% md\n"
    }
   },
   "source": []
  },
  {
   "cell_type": "code",
   "execution_count": 1,
   "metadata": {
    "collapsed": false,
    "jupyter": {
     "outputs_hidden": false
    },
    "pycharm": {
     "name": "#%%\n"
    }
   },
   "outputs": [
    {
     "name": "stdout",
     "output_type": "stream",
     "text": [
      "zsh:1: command not found: kallisto\n"
     ]
    }
   ],
   "source": [
    "!kallisto"
   ]
  }
 ],
 "metadata": {
  "kernelspec": {
   "display_name": "Python 3 (ipykernel)",
   "language": "python",
   "name": "python3"
  },
  "language_info": {
   "codemirror_mode": {
    "name": "ipython",
    "version": 3
   },
   "file_extension": ".py",
   "mimetype": "text/x-python",
   "name": "python",
   "nbconvert_exporter": "python",
   "pygments_lexer": "ipython3",
   "version": "3.8.10"
  },
  "widgets": {
   "application/vnd.jupyter.widget-state+json": {
    "state": {},
    "version_major": 2,
    "version_minor": 0
   }
  }
 },
 "nbformat": 4,
 "nbformat_minor": 4
}
