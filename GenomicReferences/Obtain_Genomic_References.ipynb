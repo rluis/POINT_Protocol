{
 "cells": [
  {
   "cell_type": "markdown",
   "metadata": {
    "collapsed": true,
    "pycharm": {
     "name": "#%% md\n"
    }
   },
   "source": [
    "# To obtain the Human Reference files\n",
    "### (Genome Sequence + Annotation coordinates)"
   ]
  },
  {
   "cell_type": "markdown",
   "source": [
    "Loading packages required:"
   ],
   "metadata": {
    "collapsed": false,
    "pycharm": {
     "name": "#%% md\n"
    }
   }
  },
  {
   "cell_type": "code",
   "execution_count": 1,
   "outputs": [],
   "source": [
    "import os\n",
    "import pyensembl\n",
    "from Scripts.manipulationOfGenomicFeatures import GenomicFeatures"
   ],
   "metadata": {
    "collapsed": false,
    "pycharm": {
     "name": "#%%\n"
    }
   }
  },
  {
   "cell_type": "markdown",
   "source": [
    "Download human reference genome **hg38** and annotations from ensembl (**release 90**):"
   ],
   "metadata": {
    "collapsed": false,
    "pycharm": {
     "name": "#%% md\n"
    }
   },
   "outputs": [],
   "execution_count": 1
  },
  {
   "cell_type": "code",
   "execution_count": 2,
   "outputs": [
    {
     "name": "stderr",
     "output_type": "stream",
     "text": [
      "INFO:pyensembl.sequence_data:Loaded sequence dictionary from /Users/rluis/DataspellProjects/POINT_Protocol/GenomicReferences/pyensembl/GRCh38/ensembl90/Homo_sapiens.GRCh38.cdna.all.fa.gz.pickle\n",
      "INFO:pyensembl.sequence_data:Loaded sequence dictionary from /Users/rluis/DataspellProjects/POINT_Protocol/GenomicReferences/pyensembl/GRCh38/ensembl90/Homo_sapiens.GRCh38.ncrna.fa.gz.pickle\n",
      "INFO:pyensembl.sequence_data:Loaded sequence dictionary from /Users/rluis/DataspellProjects/POINT_Protocol/GenomicReferences/pyensembl/GRCh38/ensembl90/Homo_sapiens.GRCh38.pep.all.fa.gz.pickle\n"
     ]
    }
   ],
   "source": [
    "os.environ['PYENSEMBL_CACHE_DIR'] = \".\"\n",
    "ensemblDB = pyensembl.EnsemblRelease(species=\"human\", release=\"90\")\n",
    "ensemblDB.download()\n",
    "ensemblDB.index()"
   ],
   "metadata": {
    "collapsed": false,
    "pycharm": {
     "name": "#%%\n"
    }
   }
  },
  {
   "cell_type": "markdown",
   "source": [
    "Based on the GTF file, BED files are created different transcriptional units.\n",
    "\n",
    "**Genes coordinates (bed format):**"
   ],
   "metadata": {
    "collapsed": false,
    "pycharm": {
     "name": "#%% md\n"
    }
   }
  },
  {
   "cell_type": "code",
   "execution_count": 3,
   "outputs": [
    {
     "data": {
      "text/plain": "[['1', '11869', '14409', 'ENSG00000223972', '0', '+'],\n ['1', '14404', '29570', 'ENSG00000227232', '0', '-'],\n ['1', '17369', '17436', 'ENSG00000278267', '0', '-'],\n ['1', '29554', '31109', 'ENSG00000243485', '0', '+'],\n ['1', '30366', '30503', 'ENSG00000284332', '0', '+']]"
     },
     "execution_count": 3,
     "metadata": {},
     "output_type": "execute_result"
    }
   ],
   "source": [
    "geneIDs = ensemblDB.gene_ids()\n",
    "genes_bedEntries = []\n",
    "for ID in geneIDs:\n",
    "    genes_bedEntries.append(GenomicFeatures.createGeneBED(ensemblDB, ID))\n",
    "genes_bedEntries = GenomicFeatures.sortBedList(genes_bedEntries)\n",
    "genes_bedEntries[:5]"
   ],
   "metadata": {
    "collapsed": false,
    "pycharm": {
     "name": "#%%\n"
    }
   }
  },
  {
   "cell_type": "markdown",
   "source": [
    "**Transcritps coordinates (bed format):**"
   ],
   "metadata": {
    "collapsed": false,
    "pycharm": {
     "name": "#%% md\n"
    }
   }
  },
  {
   "cell_type": "code",
   "execution_count": 4,
   "outputs": [
    {
     "data": {
      "text/plain": "[['1', '11869', '14409', 'ENST00000456328', '0', '+'],\n ['1', '12010', '13670', 'ENST00000450305', '0', '+'],\n ['1', '14404', '29570', 'ENST00000488147', '0', '-'],\n ['1', '17369', '17436', 'ENST00000619216', '0', '-'],\n ['1', '29554', '31097', 'ENST00000473358', '0', '+']]"
     },
     "execution_count": 4,
     "metadata": {},
     "output_type": "execute_result"
    }
   ],
   "source": [
    "transcritpsIDs = ensemblDB.transcript_ids()\n",
    "transcritps_bedEntries = []\n",
    "for transID in transcritpsIDs:\n",
    "    transcritps_bedEntries.append(GenomicFeatures.createTransBED(ensemblDB, transID))\n",
    "transcritps_bedEntries = GenomicFeatures.sortBedList(transcritps_bedEntries)\n",
    "transcritps_bedEntries[:5]"
   ],
   "metadata": {
    "collapsed": false,
    "pycharm": {
     "name": "#%%\n"
    }
   }
  },
  {
   "cell_type": "markdown",
   "source": [
    "**Exons coordinates (bed format):**\n"
   ],
   "metadata": {
    "collapsed": false,
    "pycharm": {
     "name": "#%% md\n"
    }
   }
  },
  {
   "cell_type": "code",
   "execution_count": 5,
   "outputs": [
    {
     "data": {
      "text/plain": "[['1', '11869', '12227', 'ENSE00002234944_ENST00000456328', 0, '+'],\n ['1', '12010', '12057', 'ENSE00001948541_ENST00000450305', 0, '+'],\n ['1', '12179', '12227', 'ENSE00001671638_ENST00000450305', 0, '+'],\n ['1', '12613', '12697', 'ENSE00001758273_ENST00000450305', 0, '+'],\n ['1', '12613', '12721', 'ENSE00003582793_ENST00000456328', 0, '+']]"
     },
     "execution_count": 5,
     "metadata": {},
     "output_type": "execute_result"
    }
   ],
   "source": [
    "exons_bedEntries = []\n",
    "for transID in transcritpsIDs:\n",
    "    for exonID in ensemblDB.exon_ids_of_transcript_id(transID):\n",
    "        exon = GenomicFeatures.createExonBED(ensemblDB, exonID, transID)\n",
    "        exons_bedEntries.append(exon)\n",
    "exons_bedEntries = GenomicFeatures.sortBedList(exons_bedEntries)\n",
    "exons_bedEntries[:5]"
   ],
   "metadata": {
    "collapsed": false,
    "pycharm": {
     "name": "#%%\n"
    }
   }
  },
  {
   "cell_type": "markdown",
   "source": [
    "**Introns coordinates (bed format):**\n"
   ],
   "metadata": {
    "collapsed": false,
    "pycharm": {
     "name": "#%% md\n"
    }
   }
  },
  {
   "cell_type": "code",
   "execution_count": 6,
   "outputs": [
    {
     "data": {
      "text/plain": "[['1',\n  '12057',\n  '12179',\n  'ENSE00001948541_ENSE00001671638_ENST00000450305',\n  '0',\n  '+'],\n ['1',\n  '12227',\n  '12613',\n  'ENSE00001671638_ENSE00001758273_ENST00000450305',\n  '0',\n  '+'],\n ['1',\n  '12227',\n  '12613',\n  'ENSE00002234944_ENSE00003582793_ENST00000456328',\n  '0',\n  '+'],\n ['1',\n  '12697',\n  '12975',\n  'ENSE00001758273_ENSE00001799933_ENST00000450305',\n  '0',\n  '+'],\n ['1',\n  '12721',\n  '13221',\n  'ENSE00003582793_ENSE00002312635_ENST00000456328',\n  '0',\n  '+']]"
     },
     "execution_count": 6,
     "metadata": {},
     "output_type": "execute_result"
    }
   ],
   "source": [
    "introns_bedEntries = []\n",
    "for transID in transcritpsIDs:\n",
    "    introns_bedEntries += GenomicFeatures.transcriptID_intronsBedList(ensemblDB, transID)\n",
    "introns_bedEntries = GenomicFeatures.sortBedList(introns_bedEntries)\n",
    "introns_bedEntries[:5]"
   ],
   "metadata": {
    "collapsed": false,
    "pycharm": {
     "name": "#%%\n"
    }
   }
  },
  {
   "cell_type": "markdown",
   "source": [
    "Number of transcription features per class:"
   ],
   "metadata": {
    "collapsed": false,
    "pycharm": {
     "name": "#%% md\n"
    }
   }
  },
  {
   "cell_type": "code",
   "execution_count": 7,
   "outputs": [
    {
     "name": "stdout",
     "output_type": "stream",
     "text": [
      "58302 200310 1199851 999541\n"
     ]
    }
   ],
   "source": [
    "print(len(genes_bedEntries),\n",
    "      len(transcritps_bedEntries),\n",
    "      len(exons_bedEntries),\n",
    "      len(introns_bedEntries))"
   ],
   "metadata": {
    "collapsed": false,
    "pycharm": {
     "name": "#%%\n"
    }
   }
  },
  {
   "cell_type": "markdown",
   "source": [
    "Save into BED files:"
   ],
   "metadata": {
    "collapsed": false,
    "pycharm": {
     "name": "#%% md\n"
    }
   }
  },
  {
   "cell_type": "code",
   "execution_count": 8,
   "outputs": [],
   "source": [
    "GenomicFeatures.writeBedFile(genes_bedEntries, \"allGenes_ensembl_hg38_v90.bed\")\n",
    "GenomicFeatures.writeBedFile(transcritps_bedEntries, \"allTranscripts_ensembl_hg38_v90.bed\")\n",
    "GenomicFeatures.writeBedFile(exons_bedEntries, \"allExons_ensembl_hg38_v90.bed\")\n",
    "GenomicFeatures.writeBedFile(introns_bedEntries, \"allIntrons_ensembl_hg38_v90.bed\")"
   ],
   "metadata": {
    "collapsed": false,
    "pycharm": {
     "name": "#%%\n"
    }
   }
  }
 ],
 "metadata": {
  "kernelspec": {
   "display_name": "Python 3",
   "language": "python",
   "name": "python3"
  },
  "language_info": {
   "codemirror_mode": {
    "name": "ipython",
    "version": 2
   },
   "file_extension": ".py",
   "mimetype": "text/x-python",
   "name": "python",
   "nbconvert_exporter": "python",
   "pygments_lexer": "ipython2",
   "version": "2.7.6"
  }
 },
 "nbformat": 4,
 "nbformat_minor": 0
}