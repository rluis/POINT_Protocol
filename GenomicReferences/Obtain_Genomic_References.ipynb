{
 "cells": [
  {
   "cell_type": "markdown",
   "metadata": {
    "pycharm": {
     "name": "#%% md\n"
    }
   },
   "source": [
    "# To obtain the Human Reference files\n",
    "### (Genome Sequence + Annotation coordinates)"
   ]
  },
  {
   "cell_type": "markdown",
   "metadata": {
    "pycharm": {
     "name": "#%% md\n"
    }
   },
   "source": [
    "Loading packages required:"
   ]
  },
  {
   "cell_type": "code",
   "execution_count": 1,
   "metadata": {
    "collapsed": false,
    "execution": {
     "iopub.execute_input": "2022-04-12T16:21:13.708752Z",
     "iopub.status.busy": "2022-04-12T16:21:13.708381Z",
     "iopub.status.idle": "2022-04-12T16:21:25.320386Z",
     "shell.execute_reply": "2022-04-12T16:21:25.319098Z",
     "shell.execute_reply.started": "2022-04-12T16:21:13.708666Z"
    },
    "jupyter": {
     "outputs_hidden": false
    },
    "pycharm": {
     "name": "#%%\n"
    },
    "tags": []
   },
   "outputs": [],
   "source": [
    "import os\n",
    "import pyensembl\n",
    "import subprocess\n",
    "\n",
    "from Scripts.manipulationOfGenomicFeatures import GenomicFeatures"
   ]
  },
  {
   "cell_type": "markdown",
   "metadata": {
    "pycharm": {
     "name": "#%% md\n"
    }
   },
   "source": [
    "Download human reference genome **hg38** and annotations from ensembl (**release 90**):"
   ]
  },
  {
   "cell_type": "code",
   "execution_count": 2,
   "metadata": {
    "collapsed": false,
    "execution": {
     "iopub.execute_input": "2022-04-12T10:28:05.215545Z",
     "iopub.status.busy": "2022-04-12T10:28:05.215178Z",
     "iopub.status.idle": "2022-04-12T10:44:18.338066Z",
     "shell.execute_reply": "2022-04-12T10:44:18.337227Z",
     "shell.execute_reply.started": "2022-04-12T10:28:05.215496Z"
    },
    "jupyter": {
     "outputs_hidden": false
    },
    "pycharm": {
     "name": "#%%\n"
    },
    "tags": []
   },
   "outputs": [
    {
     "name": "stderr",
     "output_type": "stream",
     "text": [
      "2022-04-12 11:44:18 URL:http://ftp.ensembl.org/pub/release-90/fasta/homo_sapiens/dna/Homo_sapiens.GRCh38.dna.primary_assembly.fa.gz [881214396/881214396] -> \"Homo_sapiens.GRCh38.dna.primary_assembly.fa.gz\" [2]\n"
     ]
    },
    {
     "data": {
      "text/plain": [
       "CompletedProcess(args='wget -nv http://ftp.ensembl.org/pub/release-90/fasta/homo_sapiens/dna/Homo_sapiens.GRCh38.dna.primary_assembly.fa.gz', returncode=0)"
      ]
     },
     "execution_count": 2,
     "metadata": {},
     "output_type": "execute_result"
    }
   ],
   "source": [
    "subprocess.run(\"wget -nv http://ftp.ensembl.org/pub/release-90/fasta/homo_sapiens/dna/Homo_sapiens.GRCh38.dna.primary_assembly.fa.gz\", shell=True, check=True)"
   ]
  },
  {
   "cell_type": "code",
   "execution_count": 2,
   "metadata": {
    "execution": {
     "iopub.execute_input": "2022-04-12T16:26:53.422778Z",
     "iopub.status.busy": "2022-04-12T16:26:53.422355Z",
     "iopub.status.idle": "2022-04-12T16:26:55.936366Z",
     "shell.execute_reply": "2022-04-12T16:26:55.935332Z",
     "shell.execute_reply.started": "2022-04-12T16:26:53.422732Z"
    },
    "pycharm": {
     "name": "#%%\n"
    },
    "tags": []
   },
   "outputs": [
    {
     "name": "stderr",
     "output_type": "stream",
     "text": [
      "INFO:pyensembl.sequence_data:Loaded sequence dictionary from /Volumes/PortableSSD/POINT_Protocol/GenomicReferences/pyensembl/GRCh38/ensembl90/Homo_sapiens.GRCh38.cdna.all.fa.gz.pickle\n",
      "INFO:pyensembl.sequence_data:Loaded sequence dictionary from /Volumes/PortableSSD/POINT_Protocol/GenomicReferences/pyensembl/GRCh38/ensembl90/Homo_sapiens.GRCh38.ncrna.fa.gz.pickle\n",
      "INFO:pyensembl.sequence_data:Loaded sequence dictionary from /Volumes/PortableSSD/POINT_Protocol/GenomicReferences/pyensembl/GRCh38/ensembl90/Homo_sapiens.GRCh38.pep.all.fa.gz.pickle\n"
     ]
    }
   ],
   "source": [
    "os.environ['PYENSEMBL_CACHE_DIR'] = \".\"\n",
    "ensemblDB = pyensembl.EnsemblRelease(species=\"human\", release=\"90\")\n",
    "ensemblDB.download()\n",
    "ensemblDB.index()"
   ]
  },
  {
   "cell_type": "markdown",
   "metadata": {
    "pycharm": {
     "name": "#%% md\n"
    }
   },
   "source": [
    "Based on the GTF file, BED files are created for the several transcriptional units.\n",
    "\n",
    "**Genes coordinates (bed format):**"
   ]
  },
  {
   "cell_type": "code",
   "execution_count": 3,
   "metadata": {
    "collapsed": false,
    "execution": {
     "iopub.execute_input": "2022-04-12T16:27:22.704795Z",
     "iopub.status.busy": "2022-04-12T16:27:22.704307Z",
     "iopub.status.idle": "2022-04-12T16:32:10.591661Z",
     "shell.execute_reply": "2022-04-12T16:32:10.590902Z",
     "shell.execute_reply.started": "2022-04-12T16:27:22.704720Z"
    },
    "jupyter": {
     "outputs_hidden": false
    },
    "pycharm": {
     "name": "#%%\n"
    },
    "tags": []
   },
   "outputs": [
    {
     "data": {
      "text/plain": [
       "[['1', '11869', '14409', 'ENSG00000223972', '0', '+'],\n",
       " ['1', '14404', '29570', 'ENSG00000227232', '0', '-'],\n",
       " ['1', '17369', '17436', 'ENSG00000278267', '0', '-'],\n",
       " ['1', '29554', '31109', 'ENSG00000243485', '0', '+'],\n",
       " ['1', '30366', '30503', 'ENSG00000284332', '0', '+']]"
      ]
     },
     "execution_count": 3,
     "metadata": {},
     "output_type": "execute_result"
    }
   ],
   "source": [
    "geneIDs = ensemblDB.gene_ids()\n",
    "genes_bedEntries = []\n",
    "for ID in geneIDs:\n",
    "    genes_bedEntries.append(GenomicFeatures.createGeneBED(ensemblDB, ID))\n",
    "genes_bedEntries = GenomicFeatures.sortBedList(genes_bedEntries)\n",
    "genes_bedEntries[:5]"
   ]
  },
  {
   "cell_type": "markdown",
   "metadata": {
    "pycharm": {
     "name": "#%% md\n"
    }
   },
   "source": [
    "**Transcritps coordinates (bed format):**"
   ]
  },
  {
   "cell_type": "code",
   "execution_count": 5,
   "metadata": {
    "collapsed": false,
    "execution": {
     "iopub.execute_input": "2022-04-12T16:32:10.593584Z",
     "iopub.status.busy": "2022-04-12T16:32:10.593340Z"
    },
    "jupyter": {
     "outputs_hidden": false
    },
    "pycharm": {
     "name": "#%%\n"
    },
    "tags": []
   },
   "outputs": [
    {
     "data": {
      "text/plain": [
       "[['1', '11869', '14409', 'ENST00000456328', '0', '+'],\n",
       " ['1', '12010', '13670', 'ENST00000450305', '0', '+'],\n",
       " ['1', '14404', '29570', 'ENST00000488147', '0', '-'],\n",
       " ['1', '17369', '17436', 'ENST00000619216', '0', '-'],\n",
       " ['1', '29554', '31097', 'ENST00000473358', '0', '+']]"
      ]
     },
     "execution_count": 4,
     "metadata": {},
     "output_type": "execute_result"
    },
    {
     "data": {
      "text/plain": [
       "[['1', '11869', '14409', 'ENST00000456328', '0', '+'],\n",
       " ['1', '12010', '13670', 'ENST00000450305', '0', '+'],\n",
       " ['1', '14404', '29570', 'ENST00000488147', '0', '-'],\n",
       " ['1', '17369', '17436', 'ENST00000619216', '0', '-'],\n",
       " ['1', '29554', '31097', 'ENST00000473358', '0', '+']]"
      ]
     },
     "execution_count": 5,
     "metadata": {},
     "output_type": "execute_result"
    }
   ],
   "source": [
    "transcritpsIDs = ensemblDB.transcript_ids()\n",
    "transcritps_bedEntries = []\n",
    "for transID in transcritpsIDs:\n",
    "    transcritps_bedEntries.append(GenomicFeatures.createTransBED(ensemblDB, transID))\n",
    "transcritps_bedEntries = GenomicFeatures.sortBedList(transcritps_bedEntries)\n",
    "transcritps_bedEntries[:5]"
   ]
  },
  {
   "cell_type": "markdown",
   "metadata": {
    "pycharm": {
     "name": "#%% md\n"
    }
   },
   "source": [
    "**Exons coordinates (bed format):**\n"
   ]
  },
  {
   "cell_type": "code",
   "execution_count": 6,
   "metadata": {
    "collapsed": false,
    "jupyter": {
     "outputs_hidden": false
    },
    "pycharm": {
     "name": "#%%\n"
    }
   },
   "outputs": [
    {
     "data": {
      "text/plain": [
       "[['1', '11869', '12227', 'ENSE00002234944_ENST00000456328', 0, '+'],\n",
       " ['1', '12010', '12057', 'ENSE00001948541_ENST00000450305', 0, '+'],\n",
       " ['1', '12179', '12227', 'ENSE00001671638_ENST00000450305', 0, '+'],\n",
       " ['1', '12613', '12697', 'ENSE00001758273_ENST00000450305', 0, '+'],\n",
       " ['1', '12613', '12721', 'ENSE00003582793_ENST00000456328', 0, '+']]"
      ]
     },
     "execution_count": 6,
     "metadata": {},
     "output_type": "execute_result"
    }
   ],
   "source": [
    "exons_bedEntries = []\n",
    "for transID in transcritpsIDs:\n",
    "    for exonID in ensemblDB.exon_ids_of_transcript_id(transID):\n",
    "        exon = GenomicFeatures.createExonBED(ensemblDB, exonID, transID)\n",
    "        exons_bedEntries.append(exon)\n",
    "exons_bedEntries = GenomicFeatures.sortBedList(exons_bedEntries)\n",
    "exons_bedEntries[:5]"
   ]
  },
  {
   "cell_type": "markdown",
   "metadata": {
    "pycharm": {
     "name": "#%% md\n"
    }
   },
   "source": [
    "**Introns coordinates (bed format):**\n"
   ]
  },
  {
   "cell_type": "code",
   "execution_count": 7,
   "metadata": {
    "collapsed": false,
    "jupyter": {
     "outputs_hidden": false
    },
    "pycharm": {
     "name": "#%%\n"
    }
   },
   "outputs": [
    {
     "data": {
      "text/plain": [
       "[['1',\n",
       "  '12057',\n",
       "  '12179',\n",
       "  'ENSE00001948541_ENSE00001671638_ENST00000450305',\n",
       "  '0',\n",
       "  '+'],\n",
       " ['1',\n",
       "  '12227',\n",
       "  '12613',\n",
       "  'ENSE00001671638_ENSE00001758273_ENST00000450305',\n",
       "  '0',\n",
       "  '+'],\n",
       " ['1',\n",
       "  '12227',\n",
       "  '12613',\n",
       "  'ENSE00002234944_ENSE00003582793_ENST00000456328',\n",
       "  '0',\n",
       "  '+'],\n",
       " ['1',\n",
       "  '12697',\n",
       "  '12975',\n",
       "  'ENSE00001758273_ENSE00001799933_ENST00000450305',\n",
       "  '0',\n",
       "  '+'],\n",
       " ['1',\n",
       "  '12721',\n",
       "  '13221',\n",
       "  'ENSE00003582793_ENSE00002312635_ENST00000456328',\n",
       "  '0',\n",
       "  '+']]"
      ]
     },
     "execution_count": 7,
     "metadata": {},
     "output_type": "execute_result"
    }
   ],
   "source": [
    "introns_bedEntries = []\n",
    "for transID in transcritpsIDs:\n",
    "    introns_bedEntries += GenomicFeatures.transcriptID_intronsBedList(ensemblDB, transID)\n",
    "introns_bedEntries = GenomicFeatures.sortBedList(introns_bedEntries)\n",
    "introns_bedEntries[:5]"
   ]
  },
  {
   "cell_type": "markdown",
   "metadata": {
    "pycharm": {
     "name": "#%% md\n"
    }
   },
   "source": [
    "Number of transcription features per class:"
   ]
  },
  {
   "cell_type": "code",
   "execution_count": 8,
   "metadata": {
    "collapsed": false,
    "jupyter": {
     "outputs_hidden": false
    },
    "pycharm": {
     "name": "#%%\n"
    }
   },
   "outputs": [
    {
     "name": "stdout",
     "output_type": "stream",
     "text": [
      "58302 200310 1199851 999541\n"
     ]
    }
   ],
   "source": [
    "print(len(genes_bedEntries),\n",
    "      len(transcritps_bedEntries),\n",
    "      len(exons_bedEntries),\n",
    "      len(introns_bedEntries))"
   ]
  },
  {
   "cell_type": "markdown",
   "metadata": {
    "pycharm": {
     "name": "#%% md\n"
    }
   },
   "source": [
    "Save into BED files:"
   ]
  },
  {
   "cell_type": "code",
   "execution_count": 9,
   "metadata": {
    "collapsed": false,
    "jupyter": {
     "outputs_hidden": false
    },
    "pycharm": {
     "name": "#%%\n"
    },
    "tags": []
   },
   "outputs": [],
   "source": [
    "GenomicFeatures.writeBedFile(genes_bedEntries, \"allGenes_ensembl_hg38_v90.bed\")\n",
    "GenomicFeatures.writeBedFile(transcritps_bedEntries, \"allTranscripts_ensembl_hg38_v90.bed\")\n",
    "GenomicFeatures.writeBedFile(exons_bedEntries, \"allExons_ensembl_hg38_v90.bed\")\n",
    "GenomicFeatures.writeBedFile(introns_bedEntries, \"allIntrons_ensembl_hg38_v90.bed\")"
   ]
  }
 ],
 "metadata": {
  "kernelspec": {
   "display_name": "Python 3 (ipykernel)",
   "language": "python",
   "name": "python3"
  },
  "language_info": {
   "codemirror_mode": {
    "name": "ipython",
    "version": 3
   },
   "file_extension": ".py",
   "mimetype": "text/x-python",
   "name": "python",
   "nbconvert_exporter": "python",
   "pygments_lexer": "ipython3",
   "version": "3.8.10"
  },
  "widgets": {
   "application/vnd.jupyter.widget-state+json": {
    "state": {},
    "version_major": 2,
    "version_minor": 0
   }
  }
 },
 "nbformat": 4,
 "nbformat_minor": 4
}
